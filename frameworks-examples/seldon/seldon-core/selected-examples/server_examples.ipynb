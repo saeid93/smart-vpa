{
 "cells": [
  {
   "cell_type": "markdown",
   "metadata": {},
   "source": [
    "# Example Model Servers with Seldon\n",
    "\n",
    "## Setup Seldon Core\n",
    "\n",
    "Use the setup notebook to [Setup Cluster](https://docs.seldon.io/projects/seldon-core/en/latest/examples/seldon_core_setup.html#Setup-Cluster) with [Ambassador Ingress](https://docs.seldon.io/projects/seldon-core/en/latest/examples/seldon_core_setup.html#Ambassador) and [Seldon Core](https://docs.seldon.io/projects/seldon-core/en/latest/examples/seldon_core_setup.html#Install-Seldon-Core). Instructions [also online](https://docs.seldon.io/projects/seldon-core/en/latest/examples/seldon_core_setup.html)."
   ]
  },
  {
   "cell_type": "markdown",
   "metadata": {},
   "source": []
  },
  {
   "cell_type": "code",
   "execution_count": 1,
   "metadata": {},
   "outputs": [
    {
     "name": "stdout",
     "output_type": "stream",
     "text": [
      "Error from server (AlreadyExists): namespaces \"seldon\" already exists\n"
     ]
    }
   ],
   "source": [
    "!kubectl create namespace seldon"
   ]
  },
  {
   "cell_type": "code",
   "execution_count": 2,
   "metadata": {},
   "outputs": [
    {
     "name": "stdout",
     "output_type": "stream",
     "text": [
      "Context \"gke_airy-berm-306315_us-central1-c_ambassador-1\" modified.\n"
     ]
    }
   ],
   "source": [
    "!kubectl config set-context $(kubectl config current-context) --namespace=seldon"
   ]
  },
  {
   "cell_type": "code",
   "execution_count": 3,
   "metadata": {},
   "outputs": [],
   "source": [
    "import json"
   ]
  },
  {
   "cell_type": "markdown",
   "metadata": {},
   "source": [
    "## Serve SKLearn Iris Model\n",
    "\n",
    "In order to deploy SKLearn artifacts, we can leverage the [pre-packaged SKLearn inference server](https://docs.seldon.io/projects/seldon-core/en/latest/servers/sklearn.html).\n",
    "The exposed API can follow either:\n",
    "\n",
    "- The default Seldon protocol. \n",
    "- The [KFServing V2 protocol](https://docs.seldon.io/projects/seldon-core/en/latest/servers/sklearn.html##v2-kfserving-protocol-incubating).\n",
    "\n",
    "For details on each of these protocols, you can check the [documentation section on API protocols](https://docs.seldon.io/projects/seldon-core/en/latest/graph/protocols.html#v2-kfserving-protocol).\n"
   ]
  },
  {
   "cell_type": "markdown",
   "metadata": {},
   "source": [
    "### Default Seldon protocol\n",
    "\n",
    "To deploy and start serving an SKLearn artifact using Seldon's default protocol, we can use a config like the one below:"
   ]
  },
  {
   "cell_type": "code",
   "execution_count": 9,
   "metadata": {},
   "outputs": [
    {
     "name": "stdout",
     "output_type": "stream",
     "text": [
      "Overwriting servers-1/sklearnserver/samples/iris.yaml\n"
     ]
    }
   ],
   "source": [
    "%%writefile servers/sklearnserver/samples/iris.yaml\n",
    "apiVersion: machinelearning.seldon.io/v1alpha2\n",
    "kind: SeldonDeployment\n",
    "metadata:\n",
    "  name: sklearn\n",
    "spec:\n",
    "  predictors:\n",
    "  - graph:\n",
    "      name: classifier\n",
    "      implementation: SKLEARN_SERVER\n",
    "      modelUri: gs://seldon-models/v1.13.0-dev/sklearn/iris\n",
    "    name: default\n",
    "    replicas: 1\n",
    "    svcOrchSpec: \n",
    "      env: \n",
    "      - name: SELDON_LOG_LEVEL\n",
    "        value: DEBUG"
   ]
  },
  {
   "cell_type": "markdown",
   "metadata": {},
   "source": [
    "We can then apply it to deploy it to our Kubernetes cluster."
   ]
  },
  {
   "cell_type": "code",
   "execution_count": 23,
   "metadata": {},
   "outputs": [
    {
     "name": "stdout",
     "output_type": "stream",
     "text": [
      "seldondeployment.machinelearning.seldon.io/sklearn created\n"
     ]
    }
   ],
   "source": [
    "!kubectl apply -f ../servers/sklearnserver/samples/iris.yaml"
   ]
  },
  {
   "cell_type": "code",
   "execution_count": 24,
   "metadata": {},
   "outputs": [
    {
     "name": "stdout",
     "output_type": "stream",
     "text": [
      "Waiting for deployment \"sklearn-default-0-classifier\" rollout to finish: 0 of 1 updated replicas are available...\n",
      "deployment \"sklearn-default-0-classifier\" successfully rolled out\n"
     ]
    }
   ],
   "source": [
    "!kubectl rollout status deploy/$(kubectl get deploy -l seldon-deployment-id=sklearn -o jsonpath='{.items[0].metadata.name}')"
   ]
  },
  {
   "cell_type": "markdown",
   "metadata": {},
   "source": [
    "Once it's deployed we can send our sklearn model requests"
   ]
  },
  {
   "cell_type": "markdown",
   "metadata": {},
   "source": [
    "#### REST Requests"
   ]
  },
  {
   "cell_type": "code",
   "execution_count": 6,
   "metadata": {},
   "outputs": [
    {
     "name": "stdout",
     "output_type": "stream",
     "text": [
      "{'data': {'names': ['t:0', 't:1', 't:2'], 'ndarray': [[9.912315378486697e-07, 0.0007015931307746079, 0.9992974156376876]]}, 'meta': {'requestPath': {'classifier': 'seldonio/sklearnserver:1.12.0'}}}\n"
     ]
    }
   ],
   "source": [
    "X=!curl -s -d '{\"data\": {\"ndarray\":[[1.0, 2.0, 5.0, 6.0]]}}' \\\n",
    "   -X POST http://localhost:8003/seldon/seldon/sklearn/api/v1.0/predictions \\\n",
    "   -H \"Content-Type: application/json\"\n",
    "d=json.loads(X[0])\n",
    "print(d)"
   ]
  },
  {
   "cell_type": "code",
   "execution_count": 9,
   "metadata": {},
   "outputs": [],
   "source": [
    "from seldon_core.seldon_client import SeldonClient\n",
    "\n",
    "sc = SeldonClient(deployment_name=\"sklearn\", namespace=\"seldon\")"
   ]
  },
  {
   "cell_type": "code",
   "execution_count": 10,
   "metadata": {},
   "outputs": [
    {
     "data": {
      "text/plain": [
       "<seldon_core.seldon_client.SeldonClient at 0x7fb6cf3f97c0>"
      ]
     },
     "execution_count": 10,
     "metadata": {},
     "output_type": "execute_result"
    }
   ],
   "source": [
    "sc"
   ]
  },
  {
   "cell_type": "code",
   "execution_count": 11,
   "metadata": {},
   "outputs": [
    {
     "name": "stdout",
     "output_type": "stream",
     "text": [
      "Success:True message:\n",
      "Request:\n",
      "meta {\n",
      "}\n",
      "data {\n",
      "  tensor {\n",
      "    shape: 1\n",
      "    shape: 4\n",
      "    values: 0.9021936812867623\n",
      "    values: 0.16164950603650685\n",
      "    values: 0.5100665961905757\n",
      "    values: 0.6827200424305248\n",
      "  }\n",
      "}\n",
      "\n",
      "Response:\n",
      "{'data': {'names': ['t:0', 't:1', 't:2'], 'tensor': {'shape': [1, 3], 'values': [0.19393356883507482, 0.45072544796518094, 0.35534098319974416]}}, 'meta': {'requestPath': {'classifier': 'seldonio/sklearnserver:1.12.0'}}}\n"
     ]
    }
   ],
   "source": [
    "r = sc.predict(gateway=\"ambassador\", transport=\"rest\", shape=(1, 4))\n",
    "print(r)\n",
    "assert r.success == True"
   ]
  },
  {
   "cell_type": "markdown",
   "metadata": {},
   "source": [
    "#### gRPC Requests"
   ]
  },
  {
   "cell_type": "code",
   "execution_count": 12,
   "metadata": {},
   "outputs": [
    {
     "name": "stdout",
     "output_type": "stream",
     "text": [
      "Success:True message:\n",
      "Request:\n",
      "{'meta': {}, 'data': {'tensor': {'shape': [1, 4], 'values': [0.7779123245735343, 0.14229136768807826, 0.37259887418717763, 0.7461230300487905]}}}\n",
      "Response:\n",
      "{'meta': {'requestPath': {'classifier': 'seldonio/sklearnserver:1.12.0'}}, 'data': {'names': ['t:0', 't:1', 't:2'], 'tensor': {'shape': [1, 3], 'values': [0.21747827486555893, 0.4171352850318002, 0.3653864401026409]}}}\n"
     ]
    }
   ],
   "source": [
    "r = sc.predict(gateway=\"ambassador\", transport=\"grpc\", shape=(1, 4))\n",
    "print(r)\n",
    "assert r.success == True"
   ]
  },
  {
   "cell_type": "code",
   "execution_count": 13,
   "metadata": {
    "scrolled": true
   },
   "outputs": [
    {
     "ename": "JSONDecodeError",
     "evalue": "Expecting value: line 1 column 1 (char 0)",
     "output_type": "error",
     "traceback": [
      "\u001b[0;31m---------------------------------------------------------------------------\u001b[0m",
      "\u001b[0;31mJSONDecodeError\u001b[0m                           Traceback (most recent call last)",
      "\u001b[0;32m/var/folders/xy/pdbyqcqn111bn0h83__03g3h0000gn/T/ipykernel_4640/3549933499.py\u001b[0m in \u001b[0;36m<module>\u001b[0;34m\u001b[0m\n\u001b[1;32m      1\u001b[0m \u001b[0mX\u001b[0m\u001b[0;34m=\u001b[0m\u001b[0mget_ipython\u001b[0m\u001b[0;34m(\u001b[0m\u001b[0;34m)\u001b[0m\u001b[0;34m.\u001b[0m\u001b[0mgetoutput\u001b[0m\u001b[0;34m(\u001b[0m\u001b[0;34m'cd ../executor/proto && grpcurl -d \\'{\"data\":{\"ndarray\":[[1.0,2.0,5.0,6.0]]}}\\'           -rpc-header seldon:sklearn -rpc-header namespace:seldon           -plaintext           -proto ./prediction.proto  0.0.0.0:8003 seldon.protos.Seldon/Predict'\u001b[0m\u001b[0;34m)\u001b[0m\u001b[0;34m\u001b[0m\u001b[0;34m\u001b[0m\u001b[0m\n\u001b[0;32m----> 2\u001b[0;31m \u001b[0md\u001b[0m\u001b[0;34m=\u001b[0m\u001b[0mjson\u001b[0m\u001b[0;34m.\u001b[0m\u001b[0mloads\u001b[0m\u001b[0;34m(\u001b[0m\u001b[0;34m\"\"\u001b[0m\u001b[0;34m.\u001b[0m\u001b[0mjoin\u001b[0m\u001b[0;34m(\u001b[0m\u001b[0mX\u001b[0m\u001b[0;34m)\u001b[0m\u001b[0;34m)\u001b[0m\u001b[0;34m\u001b[0m\u001b[0;34m\u001b[0m\u001b[0m\n\u001b[0m\u001b[1;32m      3\u001b[0m \u001b[0mprint\u001b[0m\u001b[0;34m(\u001b[0m\u001b[0md\u001b[0m\u001b[0;34m)\u001b[0m\u001b[0;34m\u001b[0m\u001b[0;34m\u001b[0m\u001b[0m\n",
      "\u001b[0;32m~/opt/miniconda3/envs/central/lib/python3.8/json/__init__.py\u001b[0m in \u001b[0;36mloads\u001b[0;34m(s, cls, object_hook, parse_float, parse_int, parse_constant, object_pairs_hook, **kw)\u001b[0m\n\u001b[1;32m    355\u001b[0m             \u001b[0mparse_int\u001b[0m \u001b[0;32mis\u001b[0m \u001b[0;32mNone\u001b[0m \u001b[0;32mand\u001b[0m \u001b[0mparse_float\u001b[0m \u001b[0;32mis\u001b[0m \u001b[0;32mNone\u001b[0m \u001b[0;32mand\u001b[0m\u001b[0;34m\u001b[0m\u001b[0;34m\u001b[0m\u001b[0m\n\u001b[1;32m    356\u001b[0m             parse_constant is None and object_pairs_hook is None and not kw):\n\u001b[0;32m--> 357\u001b[0;31m         \u001b[0;32mreturn\u001b[0m \u001b[0m_default_decoder\u001b[0m\u001b[0;34m.\u001b[0m\u001b[0mdecode\u001b[0m\u001b[0;34m(\u001b[0m\u001b[0ms\u001b[0m\u001b[0;34m)\u001b[0m\u001b[0;34m\u001b[0m\u001b[0;34m\u001b[0m\u001b[0m\n\u001b[0m\u001b[1;32m    358\u001b[0m     \u001b[0;32mif\u001b[0m \u001b[0mcls\u001b[0m \u001b[0;32mis\u001b[0m \u001b[0;32mNone\u001b[0m\u001b[0;34m:\u001b[0m\u001b[0;34m\u001b[0m\u001b[0;34m\u001b[0m\u001b[0m\n\u001b[1;32m    359\u001b[0m         \u001b[0mcls\u001b[0m \u001b[0;34m=\u001b[0m \u001b[0mJSONDecoder\u001b[0m\u001b[0;34m\u001b[0m\u001b[0;34m\u001b[0m\u001b[0m\n",
      "\u001b[0;32m~/opt/miniconda3/envs/central/lib/python3.8/json/decoder.py\u001b[0m in \u001b[0;36mdecode\u001b[0;34m(self, s, _w)\u001b[0m\n\u001b[1;32m    335\u001b[0m \u001b[0;34m\u001b[0m\u001b[0m\n\u001b[1;32m    336\u001b[0m         \"\"\"\n\u001b[0;32m--> 337\u001b[0;31m         \u001b[0mobj\u001b[0m\u001b[0;34m,\u001b[0m \u001b[0mend\u001b[0m \u001b[0;34m=\u001b[0m \u001b[0mself\u001b[0m\u001b[0;34m.\u001b[0m\u001b[0mraw_decode\u001b[0m\u001b[0;34m(\u001b[0m\u001b[0ms\u001b[0m\u001b[0;34m,\u001b[0m \u001b[0midx\u001b[0m\u001b[0;34m=\u001b[0m\u001b[0m_w\u001b[0m\u001b[0;34m(\u001b[0m\u001b[0ms\u001b[0m\u001b[0;34m,\u001b[0m \u001b[0;36m0\u001b[0m\u001b[0;34m)\u001b[0m\u001b[0;34m.\u001b[0m\u001b[0mend\u001b[0m\u001b[0;34m(\u001b[0m\u001b[0;34m)\u001b[0m\u001b[0;34m)\u001b[0m\u001b[0;34m\u001b[0m\u001b[0;34m\u001b[0m\u001b[0m\n\u001b[0m\u001b[1;32m    338\u001b[0m         \u001b[0mend\u001b[0m \u001b[0;34m=\u001b[0m \u001b[0m_w\u001b[0m\u001b[0;34m(\u001b[0m\u001b[0ms\u001b[0m\u001b[0;34m,\u001b[0m \u001b[0mend\u001b[0m\u001b[0;34m)\u001b[0m\u001b[0;34m.\u001b[0m\u001b[0mend\u001b[0m\u001b[0;34m(\u001b[0m\u001b[0;34m)\u001b[0m\u001b[0;34m\u001b[0m\u001b[0;34m\u001b[0m\u001b[0m\n\u001b[1;32m    339\u001b[0m         \u001b[0;32mif\u001b[0m \u001b[0mend\u001b[0m \u001b[0;34m!=\u001b[0m \u001b[0mlen\u001b[0m\u001b[0;34m(\u001b[0m\u001b[0ms\u001b[0m\u001b[0;34m)\u001b[0m\u001b[0;34m:\u001b[0m\u001b[0;34m\u001b[0m\u001b[0;34m\u001b[0m\u001b[0m\n",
      "\u001b[0;32m~/opt/miniconda3/envs/central/lib/python3.8/json/decoder.py\u001b[0m in \u001b[0;36mraw_decode\u001b[0;34m(self, s, idx)\u001b[0m\n\u001b[1;32m    353\u001b[0m             \u001b[0mobj\u001b[0m\u001b[0;34m,\u001b[0m \u001b[0mend\u001b[0m \u001b[0;34m=\u001b[0m \u001b[0mself\u001b[0m\u001b[0;34m.\u001b[0m\u001b[0mscan_once\u001b[0m\u001b[0;34m(\u001b[0m\u001b[0ms\u001b[0m\u001b[0;34m,\u001b[0m \u001b[0midx\u001b[0m\u001b[0;34m)\u001b[0m\u001b[0;34m\u001b[0m\u001b[0;34m\u001b[0m\u001b[0m\n\u001b[1;32m    354\u001b[0m         \u001b[0;32mexcept\u001b[0m \u001b[0mStopIteration\u001b[0m \u001b[0;32mas\u001b[0m \u001b[0merr\u001b[0m\u001b[0;34m:\u001b[0m\u001b[0;34m\u001b[0m\u001b[0;34m\u001b[0m\u001b[0m\n\u001b[0;32m--> 355\u001b[0;31m             \u001b[0;32mraise\u001b[0m \u001b[0mJSONDecodeError\u001b[0m\u001b[0;34m(\u001b[0m\u001b[0;34m\"Expecting value\"\u001b[0m\u001b[0;34m,\u001b[0m \u001b[0ms\u001b[0m\u001b[0;34m,\u001b[0m \u001b[0merr\u001b[0m\u001b[0;34m.\u001b[0m\u001b[0mvalue\u001b[0m\u001b[0;34m)\u001b[0m \u001b[0;32mfrom\u001b[0m \u001b[0;32mNone\u001b[0m\u001b[0;34m\u001b[0m\u001b[0;34m\u001b[0m\u001b[0m\n\u001b[0m\u001b[1;32m    356\u001b[0m         \u001b[0;32mreturn\u001b[0m \u001b[0mobj\u001b[0m\u001b[0;34m,\u001b[0m \u001b[0mend\u001b[0m\u001b[0;34m\u001b[0m\u001b[0;34m\u001b[0m\u001b[0m\n",
      "\u001b[0;31mJSONDecodeError\u001b[0m: Expecting value: line 1 column 1 (char 0)"
     ]
    }
   ],
   "source": [
    "X=!cd ../executor/proto && grpcurl -d '{\"data\":{\"ndarray\":[[1.0,2.0,5.0,6.0]]}}' \\\n",
    "         -rpc-header seldon:sklearn -rpc-header namespace:seldon \\\n",
    "         -plaintext \\\n",
    "         -proto ./prediction.proto  0.0.0.0:8003 seldon.protos.Seldon/Predict\n",
    "d=json.loads(\"\".join(X))\n",
    "print(d)"
   ]
  },
  {
   "cell_type": "markdown",
   "metadata": {},
   "source": [
    "And delete the model we deployed"
   ]
  },
  {
   "cell_type": "code",
   "execution_count": null,
   "metadata": {},
   "outputs": [],
   "source": [
    "!kubectl delete -f ../servers/sklearnserver/samples/iris.yaml"
   ]
  },
  {
   "cell_type": "markdown",
   "metadata": {},
   "source": [
    "### KFServing V2 protocol\n",
    "\n",
    "We can deploy a SKLearn artifact, exposing an API compatible with [KFServing's V2 Protocol](https://docs.seldon.io/projects/seldon-core/en/latest/servers/sklearn.html##v2-kfserving-protocol-incubating) by specifying the `protocol` of our `SeldonDeployment` as `kfserving`.\n",
    "For example, we can consider the config below:"
   ]
  },
  {
   "cell_type": "code",
   "execution_count": 1,
   "metadata": {},
   "outputs": [
    {
     "name": "stdout",
     "output_type": "stream",
     "text": [
      "Overwriting ./resources/iris-sklearn-v2.yaml\n"
     ]
    }
   ],
   "source": [
    "%%writefile ./resources/iris-sklearn-v2.yaml\n",
    "apiVersion: machinelearning.seldon.io/v1\n",
    "kind: SeldonDeployment\n",
    "metadata:\n",
    "  name: sklearn\n",
    "spec:\n",
    "  name: iris\n",
    "  protocol: kfserving\n",
    "  predictors:\n",
    "  - graph:\n",
    "      children: []\n",
    "      implementation: SKLEARN_SERVER\n",
    "      modelUri: gs://seldon-models/sklearn/iris-0.23.2/lr_model\n",
    "      name: classifier\n",
    "    name: default\n",
    "    replicas: 1"
   ]
  },
  {
   "cell_type": "markdown",
   "metadata": {},
   "source": [
    "We can then apply it to deploy our model to our Kubernetes cluster."
   ]
  },
  {
   "cell_type": "code",
   "execution_count": 2,
   "metadata": {},
   "outputs": [
    {
     "name": "stdout",
     "output_type": "stream",
     "text": [
      "seldondeployment.machinelearning.seldon.io/sklearn created\n"
     ]
    }
   ],
   "source": [
    "!kubectl apply -f resources/iris-sklearn-v2.yaml"
   ]
  },
  {
   "cell_type": "code",
   "execution_count": 3,
   "metadata": {},
   "outputs": [
    {
     "name": "stdout",
     "output_type": "stream",
     "text": [
      "Waiting for deployment \"sklearn-default-0-classifier\" rollout to finish: 0 of 1 updated replicas are available...\n",
      "deployment \"sklearn-default-0-classifier\" successfully rolled out\n"
     ]
    }
   ],
   "source": [
    "!kubectl rollout status deploy/$(kubectl get deploy -l seldon-deployment-id=sklearn -o jsonpath='{.items[0].metadata.name}')"
   ]
  },
  {
   "cell_type": "markdown",
   "metadata": {},
   "source": [
    "Once it's deployed, we can send inference requests to our model.\n",
    "Note that, since it's using the KFServing's V2 Protocol, these requests will be different to the ones using the default Seldon Protocol."
   ]
  },
  {
   "cell_type": "code",
   "execution_count": 6,
   "metadata": {},
   "outputs": [
    {
     "name": "stdout",
     "output_type": "stream",
     "text": [
      "{\n",
      "  \"model_name\": \"classifier\",\n",
      "  \"model_version\": \"v1\",\n",
      "  \"id\": \"a54af6e0-af58-446f-99f9-4d20cd6cc89b\",\n",
      "  \"parameters\": null,\n",
      "  \"outputs\": [\n",
      "    {\n",
      "      \"name\": \"predict\",\n",
      "      \"shape\": [\n",
      "        1\n",
      "      ],\n",
      "      \"datatype\": \"INT64\",\n",
      "      \"parameters\": null,\n",
      "      \"data\": [\n",
      "        2\n",
      "      ]\n",
      "    }\n",
      "  ]\n",
      "}\n"
     ]
    }
   ],
   "source": [
    "import json\n",
    "\n",
    "import requests\n",
    "\n",
    "inference_request = {\n",
    "    \"inputs\": [\n",
    "        {\"name\": \"predict\", \"shape\": [1, 4], \"datatype\": \"FP32\", \"data\": [[1, 2, 3, 4]]}\n",
    "    ]\n",
    "}\n",
    "\n",
    "endpoint = \"http://localhost:8003/seldon/seldon/sklearn/v2/models/infer\"\n",
    "response = requests.post(endpoint, json=inference_request)\n",
    "\n",
    "print(json.dumps(response.json(), indent=2))\n",
    "assert response.ok"
   ]
  },
  {
   "cell_type": "markdown",
   "metadata": {},
   "source": [
    "Finally, we can delete the model we deployed."
   ]
  },
  {
   "cell_type": "code",
   "execution_count": 7,
   "metadata": {},
   "outputs": [
    {
     "name": "stdout",
     "output_type": "stream",
     "text": [
      "seldondeployment.machinelearning.seldon.io \"sklearn\" deleted\n"
     ]
    }
   ],
   "source": [
    "!kubectl delete -f resources/iris-sklearn-v2.yaml"
   ]
  },
  {
   "cell_type": "markdown",
   "metadata": {},
   "source": [
    "## Serve XGBoost Iris Model\n",
    "\n",
    "In order to deploy XGBoost models, we can leverage the [pre-packaged XGBoost inference server](https://docs.seldon.io/projects/seldon-core/en/latest/servers/xgboost.html).\n",
    "The exposed API can follow either:\n",
    "\n",
    "- The default Seldon protocol. \n",
    "- The [KFServing V2 protocol](https://docs.seldon.io/projects/seldon-core/en/latest/servers/xgboost.html##v2-kfserving-protocol-incubating).\n",
    "\n",
    "For details on each of these protocols, you can check the [documentation section on API protocols](https://docs.seldon.io/projects/seldon-core/en/latest/graph/protocols.html#v2-kfserving-protocol)."
   ]
  },
  {
   "cell_type": "markdown",
   "metadata": {},
   "source": [
    "### Default Seldon protocol\n",
    "\n",
    "We can deploy a XGBoost model uploaded to an object store by using the XGBoost model server implementation as shown in the config below:"
   ]
  },
  {
   "cell_type": "code",
   "execution_count": 8,
   "metadata": {},
   "outputs": [
    {
     "name": "stdout",
     "output_type": "stream",
     "text": [
      "Writing resources/iris.yaml\n"
     ]
    }
   ],
   "source": [
    "%%writefile resources/iris.yaml\n",
    "apiVersion: machinelearning.seldon.io/v1\n",
    "kind: SeldonDeployment\n",
    "metadata:\n",
    "  name: xgboost\n",
    "spec:\n",
    "  name: iris\n",
    "  predictors:\n",
    "  - graph:\n",
    "      children: []\n",
    "      implementation: XGBOOST_SERVER\n",
    "      modelUri: gs://seldon-models/xgboost/iris\n",
    "      name: classifier\n",
    "    name: default\n",
    "    replicas: 1"
   ]
  },
  {
   "cell_type": "markdown",
   "metadata": {},
   "source": [
    "And then we apply it to deploy it to our kubernetes cluster"
   ]
  },
  {
   "cell_type": "code",
   "execution_count": 9,
   "metadata": {},
   "outputs": [
    {
     "name": "stdout",
     "output_type": "stream",
     "text": [
      "seldondeployment.machinelearning.seldon.io/xgboost created\n"
     ]
    }
   ],
   "source": [
    "!kubectl apply -f resources/iris.yaml"
   ]
  },
  {
   "cell_type": "code",
   "execution_count": 11,
   "metadata": {},
   "outputs": [
    {
     "name": "stdout",
     "output_type": "stream",
     "text": [
      "deployment \"xgboost-default-0-classifier\" successfully rolled out\n"
     ]
    }
   ],
   "source": [
    "!kubectl rollout status deploy/$(kubectl get deploy -l seldon-deployment-id=xgboost -o jsonpath='{.items[0].metadata.name}')"
   ]
  },
  {
   "cell_type": "markdown",
   "metadata": {},
   "source": [
    "#### Rest Requests"
   ]
  },
  {
   "cell_type": "code",
   "execution_count": 12,
   "metadata": {},
   "outputs": [
    {
     "name": "stdout",
     "output_type": "stream",
     "text": [
      "{'data': {'names': [], 'ndarray': [2.0]}, 'meta': {'requestPath': {'classifier': 'seldonio/xgboostserver:1.12.0'}}}\n"
     ]
    }
   ],
   "source": [
    "X=!curl -s -d '{\"data\": {\"ndarray\":[[1.0, 2.0, 5.0, 6.0]]}}' \\\n",
    "   -X POST http://localhost:8003/seldon/seldon/xgboost/api/v1.0/predictions \\\n",
    "   -H \"Content-Type: application/json\"\n",
    "d=json.loads(X[0])\n",
    "print(d)"
   ]
  },
  {
   "cell_type": "code",
   "execution_count": 13,
   "metadata": {},
   "outputs": [],
   "source": [
    "from seldon_core.seldon_client import SeldonClient\n",
    "\n",
    "sc = SeldonClient(deployment_name=\"xgboost\", namespace=\"seldon\")"
   ]
  },
  {
   "cell_type": "code",
   "execution_count": 14,
   "metadata": {},
   "outputs": [
    {
     "name": "stdout",
     "output_type": "stream",
     "text": [
      "Success:True message:\n",
      "Request:\n",
      "meta {\n",
      "}\n",
      "data {\n",
      "  tensor {\n",
      "    shape: 1\n",
      "    shape: 4\n",
      "    values: 0.16349721367445336\n",
      "    values: 0.6344575653634926\n",
      "    values: 0.8891075711772897\n",
      "    values: 0.6071970155717078\n",
      "  }\n",
      "}\n",
      "\n",
      "Response:\n",
      "{'data': {'names': [], 'tensor': {'shape': [1], 'values': [0.0]}}, 'meta': {'requestPath': {'classifier': 'seldonio/xgboostserver:1.12.0'}}}\n"
     ]
    }
   ],
   "source": [
    "r = sc.predict(gateway=\"ambassador\", transport=\"rest\", shape=(1, 4))\n",
    "print(r)\n",
    "assert r.success == True"
   ]
  },
  {
   "cell_type": "markdown",
   "metadata": {},
   "source": [
    "#### gRPC Requests"
   ]
  },
  {
   "cell_type": "code",
   "execution_count": 15,
   "metadata": {},
   "outputs": [
    {
     "name": "stdout",
     "output_type": "stream",
     "text": [
      "Success:True message:\n",
      "Request:\n",
      "{'meta': {}, 'data': {'tensor': {'shape': [1, 4], 'values': [0.8900255740947014, 0.07126927039358277, 0.9889845197353722, 0.4638047690101038]}}}\n",
      "Response:\n",
      "{'meta': {'requestPath': {'classifier': 'seldonio/xgboostserver:1.12.0'}}, 'data': {'tensor': {'shape': [1], 'values': [0.0]}}}\n"
     ]
    }
   ],
   "source": [
    "r = sc.predict(gateway=\"ambassador\", transport=\"grpc\", shape=(1, 4))\n",
    "print(r)\n",
    "assert r.success == True"
   ]
  },
  {
   "cell_type": "code",
   "execution_count": 16,
   "metadata": {
    "scrolled": true
   },
   "outputs": [
    {
     "ename": "JSONDecodeError",
     "evalue": "Expecting value: line 1 column 1 (char 0)",
     "output_type": "error",
     "traceback": [
      "\u001b[0;31m---------------------------------------------------------------------------\u001b[0m",
      "\u001b[0;31mJSONDecodeError\u001b[0m                           Traceback (most recent call last)",
      "\u001b[0;32m/var/folders/xy/pdbyqcqn111bn0h83__03g3h0000gn/T/ipykernel_2144/2153076365.py\u001b[0m in \u001b[0;36m<module>\u001b[0;34m\u001b[0m\n\u001b[1;32m      1\u001b[0m \u001b[0mX\u001b[0m\u001b[0;34m=\u001b[0m\u001b[0mget_ipython\u001b[0m\u001b[0;34m(\u001b[0m\u001b[0;34m)\u001b[0m\u001b[0;34m.\u001b[0m\u001b[0mgetoutput\u001b[0m\u001b[0;34m(\u001b[0m\u001b[0;34m'cd ../executor/proto && grpcurl -d \\'{\"data\":{\"ndarray\":[[1.0,2.0,5.0,6.0]]}}\\'           -rpc-header seldon:xgboost -rpc-header namespace:seldon           -plaintext           -proto ./prediction.proto  0.0.0.0:8003 seldon.protos.Seldon/Predict'\u001b[0m\u001b[0;34m)\u001b[0m\u001b[0;34m\u001b[0m\u001b[0;34m\u001b[0m\u001b[0m\n\u001b[0;32m----> 2\u001b[0;31m \u001b[0md\u001b[0m\u001b[0;34m=\u001b[0m\u001b[0mjson\u001b[0m\u001b[0;34m.\u001b[0m\u001b[0mloads\u001b[0m\u001b[0;34m(\u001b[0m\u001b[0;34m\"\"\u001b[0m\u001b[0;34m.\u001b[0m\u001b[0mjoin\u001b[0m\u001b[0;34m(\u001b[0m\u001b[0mX\u001b[0m\u001b[0;34m)\u001b[0m\u001b[0;34m)\u001b[0m\u001b[0;34m\u001b[0m\u001b[0;34m\u001b[0m\u001b[0m\n\u001b[0m\u001b[1;32m      3\u001b[0m \u001b[0mprint\u001b[0m\u001b[0;34m(\u001b[0m\u001b[0md\u001b[0m\u001b[0;34m)\u001b[0m\u001b[0;34m\u001b[0m\u001b[0;34m\u001b[0m\u001b[0m\n",
      "\u001b[0;32m~/opt/miniconda3/envs/central/lib/python3.8/json/__init__.py\u001b[0m in \u001b[0;36mloads\u001b[0;34m(s, cls, object_hook, parse_float, parse_int, parse_constant, object_pairs_hook, **kw)\u001b[0m\n\u001b[1;32m    355\u001b[0m             \u001b[0mparse_int\u001b[0m \u001b[0;32mis\u001b[0m \u001b[0;32mNone\u001b[0m \u001b[0;32mand\u001b[0m \u001b[0mparse_float\u001b[0m \u001b[0;32mis\u001b[0m \u001b[0;32mNone\u001b[0m \u001b[0;32mand\u001b[0m\u001b[0;34m\u001b[0m\u001b[0;34m\u001b[0m\u001b[0m\n\u001b[1;32m    356\u001b[0m             parse_constant is None and object_pairs_hook is None and not kw):\n\u001b[0;32m--> 357\u001b[0;31m         \u001b[0;32mreturn\u001b[0m \u001b[0m_default_decoder\u001b[0m\u001b[0;34m.\u001b[0m\u001b[0mdecode\u001b[0m\u001b[0;34m(\u001b[0m\u001b[0ms\u001b[0m\u001b[0;34m)\u001b[0m\u001b[0;34m\u001b[0m\u001b[0;34m\u001b[0m\u001b[0m\n\u001b[0m\u001b[1;32m    358\u001b[0m     \u001b[0;32mif\u001b[0m \u001b[0mcls\u001b[0m \u001b[0;32mis\u001b[0m \u001b[0;32mNone\u001b[0m\u001b[0;34m:\u001b[0m\u001b[0;34m\u001b[0m\u001b[0;34m\u001b[0m\u001b[0m\n\u001b[1;32m    359\u001b[0m         \u001b[0mcls\u001b[0m \u001b[0;34m=\u001b[0m \u001b[0mJSONDecoder\u001b[0m\u001b[0;34m\u001b[0m\u001b[0;34m\u001b[0m\u001b[0m\n",
      "\u001b[0;32m~/opt/miniconda3/envs/central/lib/python3.8/json/decoder.py\u001b[0m in \u001b[0;36mdecode\u001b[0;34m(self, s, _w)\u001b[0m\n\u001b[1;32m    335\u001b[0m \u001b[0;34m\u001b[0m\u001b[0m\n\u001b[1;32m    336\u001b[0m         \"\"\"\n\u001b[0;32m--> 337\u001b[0;31m         \u001b[0mobj\u001b[0m\u001b[0;34m,\u001b[0m \u001b[0mend\u001b[0m \u001b[0;34m=\u001b[0m \u001b[0mself\u001b[0m\u001b[0;34m.\u001b[0m\u001b[0mraw_decode\u001b[0m\u001b[0;34m(\u001b[0m\u001b[0ms\u001b[0m\u001b[0;34m,\u001b[0m \u001b[0midx\u001b[0m\u001b[0;34m=\u001b[0m\u001b[0m_w\u001b[0m\u001b[0;34m(\u001b[0m\u001b[0ms\u001b[0m\u001b[0;34m,\u001b[0m \u001b[0;36m0\u001b[0m\u001b[0;34m)\u001b[0m\u001b[0;34m.\u001b[0m\u001b[0mend\u001b[0m\u001b[0;34m(\u001b[0m\u001b[0;34m)\u001b[0m\u001b[0;34m)\u001b[0m\u001b[0;34m\u001b[0m\u001b[0;34m\u001b[0m\u001b[0m\n\u001b[0m\u001b[1;32m    338\u001b[0m         \u001b[0mend\u001b[0m \u001b[0;34m=\u001b[0m \u001b[0m_w\u001b[0m\u001b[0;34m(\u001b[0m\u001b[0ms\u001b[0m\u001b[0;34m,\u001b[0m \u001b[0mend\u001b[0m\u001b[0;34m)\u001b[0m\u001b[0;34m.\u001b[0m\u001b[0mend\u001b[0m\u001b[0;34m(\u001b[0m\u001b[0;34m)\u001b[0m\u001b[0;34m\u001b[0m\u001b[0;34m\u001b[0m\u001b[0m\n\u001b[1;32m    339\u001b[0m         \u001b[0;32mif\u001b[0m \u001b[0mend\u001b[0m \u001b[0;34m!=\u001b[0m \u001b[0mlen\u001b[0m\u001b[0;34m(\u001b[0m\u001b[0ms\u001b[0m\u001b[0;34m)\u001b[0m\u001b[0;34m:\u001b[0m\u001b[0;34m\u001b[0m\u001b[0;34m\u001b[0m\u001b[0m\n",
      "\u001b[0;32m~/opt/miniconda3/envs/central/lib/python3.8/json/decoder.py\u001b[0m in \u001b[0;36mraw_decode\u001b[0;34m(self, s, idx)\u001b[0m\n\u001b[1;32m    353\u001b[0m             \u001b[0mobj\u001b[0m\u001b[0;34m,\u001b[0m \u001b[0mend\u001b[0m \u001b[0;34m=\u001b[0m \u001b[0mself\u001b[0m\u001b[0;34m.\u001b[0m\u001b[0mscan_once\u001b[0m\u001b[0;34m(\u001b[0m\u001b[0ms\u001b[0m\u001b[0;34m,\u001b[0m \u001b[0midx\u001b[0m\u001b[0;34m)\u001b[0m\u001b[0;34m\u001b[0m\u001b[0;34m\u001b[0m\u001b[0m\n\u001b[1;32m    354\u001b[0m         \u001b[0;32mexcept\u001b[0m \u001b[0mStopIteration\u001b[0m \u001b[0;32mas\u001b[0m \u001b[0merr\u001b[0m\u001b[0;34m:\u001b[0m\u001b[0;34m\u001b[0m\u001b[0;34m\u001b[0m\u001b[0m\n\u001b[0;32m--> 355\u001b[0;31m             \u001b[0;32mraise\u001b[0m \u001b[0mJSONDecodeError\u001b[0m\u001b[0;34m(\u001b[0m\u001b[0;34m\"Expecting value\"\u001b[0m\u001b[0;34m,\u001b[0m \u001b[0ms\u001b[0m\u001b[0;34m,\u001b[0m \u001b[0merr\u001b[0m\u001b[0;34m.\u001b[0m\u001b[0mvalue\u001b[0m\u001b[0;34m)\u001b[0m \u001b[0;32mfrom\u001b[0m \u001b[0;32mNone\u001b[0m\u001b[0;34m\u001b[0m\u001b[0;34m\u001b[0m\u001b[0m\n\u001b[0m\u001b[1;32m    356\u001b[0m         \u001b[0;32mreturn\u001b[0m \u001b[0mobj\u001b[0m\u001b[0;34m,\u001b[0m \u001b[0mend\u001b[0m\u001b[0;34m\u001b[0m\u001b[0;34m\u001b[0m\u001b[0m\n",
      "\u001b[0;31mJSONDecodeError\u001b[0m: Expecting value: line 1 column 1 (char 0)"
     ]
    }
   ],
   "source": [
    "X=!cd ../executor/proto && grpcurl -d '{\"data\":{\"ndarray\":[[1.0,2.0,5.0,6.0]]}}' \\\n",
    "         -rpc-header seldon:xgboost -rpc-header namespace:seldon \\\n",
    "         -plaintext \\\n",
    "         -proto ./prediction.proto  0.0.0.0:8003 seldon.protos.Seldon/Predict\n",
    "d=json.loads(\"\".join(X))\n",
    "print(d)"
   ]
  },
  {
   "cell_type": "markdown",
   "metadata": {},
   "source": [
    "And delete the model we deployed"
   ]
  },
  {
   "cell_type": "code",
   "execution_count": 17,
   "metadata": {},
   "outputs": [
    {
     "name": "stdout",
     "output_type": "stream",
     "text": [
      "seldondeployment.machinelearning.seldon.io \"xgboost\" deleted\n"
     ]
    }
   ],
   "source": [
    "!kubectl delete -f resources/iris.yaml"
   ]
  },
  {
   "cell_type": "markdown",
   "metadata": {},
   "source": [
    "### KFServing V2 protocol\n",
    "\n",
    "We can deploy a XGBoost model, exposing an API compatible with [KFServing's V2 Protocol](https://docs.seldon.io/projects/seldon-core/en/latest/servers/xgboost.html##v2-kfserving-protocol-incubating) by specifying the `protocol` of our `SeldonDeployment` as `kfserving`.\n",
    "For example, we can consider the config below:"
   ]
  },
  {
   "cell_type": "code",
   "execution_count": 18,
   "metadata": {},
   "outputs": [
    {
     "name": "stdout",
     "output_type": "stream",
     "text": [
      "Writing ./resources/iris-xgboost-v2.yaml\n"
     ]
    }
   ],
   "source": [
    "%%writefile ./resources/iris-xgboost-v2.yaml\n",
    "apiVersion: machinelearning.seldon.io/v1\n",
    "kind: SeldonDeployment\n",
    "metadata:\n",
    "  name: xgboost\n",
    "spec:\n",
    "  name: iris\n",
    "  protocol: kfserving\n",
    "  predictors:\n",
    "  - graph:\n",
    "      children: []\n",
    "      implementation: XGBOOST_SERVER\n",
    "      modelUri: gs://seldon-models/xgboost/iris\n",
    "      name: classifier\n",
    "    name: default\n",
    "    replicas: 1"
   ]
  },
  {
   "cell_type": "markdown",
   "metadata": {},
   "source": [
    "We can then apply it to deploy our model to our Kubernetes cluster."
   ]
  },
  {
   "cell_type": "code",
   "execution_count": 19,
   "metadata": {},
   "outputs": [
    {
     "name": "stdout",
     "output_type": "stream",
     "text": [
      "seldondeployment.machinelearning.seldon.io/xgboost created\n"
     ]
    }
   ],
   "source": [
    "!kubectl apply -f ./resources/iris-xgboost-v2.yaml"
   ]
  },
  {
   "cell_type": "code",
   "execution_count": 20,
   "metadata": {},
   "outputs": [
    {
     "name": "stdout",
     "output_type": "stream",
     "text": [
      "Waiting for deployment \"xgboost-default-0-classifier\" rollout to finish: 0 of 1 updated replicas are available...\n",
      "deployment \"xgboost-default-0-classifier\" successfully rolled out\n"
     ]
    }
   ],
   "source": [
    "!kubectl rollout status deploy/$(kubectl get deploy -l seldon-deployment-id=xgboost -o jsonpath='{.items[0].metadata.name}')"
   ]
  },
  {
   "cell_type": "markdown",
   "metadata": {},
   "source": [
    "Once it's deployed, we can send inference requests to our model.\n",
    "Note that, since it's using the KFServing's V2 Protocol, these requests will be different to the ones using the default Seldon Protocol."
   ]
  },
  {
   "cell_type": "code",
   "execution_count": 21,
   "metadata": {},
   "outputs": [
    {
     "name": "stdout",
     "output_type": "stream",
     "text": [
      "{\n",
      "  \"model_name\": \"classifier\",\n",
      "  \"model_version\": \"v1\",\n",
      "  \"id\": \"ddbb8197-05d0-484d-9768-4263bbcd49a9\",\n",
      "  \"parameters\": null,\n",
      "  \"outputs\": [\n",
      "    {\n",
      "      \"name\": \"predict\",\n",
      "      \"shape\": [\n",
      "        1\n",
      "      ],\n",
      "      \"datatype\": \"FP32\",\n",
      "      \"parameters\": null,\n",
      "      \"data\": [\n",
      "        2.0\n",
      "      ]\n",
      "    }\n",
      "  ]\n",
      "}\n"
     ]
    }
   ],
   "source": [
    "import json\n",
    "\n",
    "import requests\n",
    "\n",
    "inference_request = {\n",
    "    \"inputs\": [\n",
    "        {\"name\": \"predict\", \"shape\": [1, 4], \"datatype\": \"FP32\", \"data\": [[1, 2, 3, 4]]}\n",
    "    ]\n",
    "}\n",
    "\n",
    "endpoint = \"http://localhost:8003/seldon/seldon/xgboost/v2/models/infer\"\n",
    "response = requests.post(endpoint, json=inference_request)\n",
    "\n",
    "print(json.dumps(response.json(), indent=2))\n",
    "assert response.ok"
   ]
  },
  {
   "cell_type": "markdown",
   "metadata": {},
   "source": [
    "Finally, we can delete the model we deployed."
   ]
  },
  {
   "cell_type": "code",
   "execution_count": 22,
   "metadata": {},
   "outputs": [
    {
     "name": "stdout",
     "output_type": "stream",
     "text": [
      "seldondeployment.machinelearning.seldon.io \"xgboost\" deleted\n"
     ]
    }
   ],
   "source": [
    "!kubectl delete -f ./resources/iris-xgboost-v2.yaml"
   ]
  },
  {
   "cell_type": "markdown",
   "metadata": {},
   "source": [
    "## Serve Tensorflow MNIST Model\n",
    "We can deploy a tensorflow model uploaded to an object store by using the\n",
    "tensorflow model server implementation as the config below.\n",
    "\n",
    "This notebook contains two examples, one which shows how you can use the\n",
    "TFServing prepackaged serve with the Seldon Protocol, and a second one which\n",
    "shows how you can deploy it using the tensorlfow protocol (so you can send\n",
    "requests of the exact format as you would to a tfserving server)."
   ]
  },
  {
   "cell_type": "markdown",
   "metadata": {},
   "source": [
    "### Serve Tensorflow MNIST Model with Seldon Protocol\n",
    "\n",
    "The config file below shows how you can deploy your Tensorflow model which\n",
    "exposes the Seldon protocol."
   ]
  },
  {
   "cell_type": "code",
   "execution_count": 23,
   "metadata": {},
   "outputs": [
    {
     "name": "stdout",
     "output_type": "stream",
     "text": [
      "Writing ./resources/mnist_rest.yaml\n"
     ]
    }
   ],
   "source": [
    "%%writefile ./resources/mnist_rest.yaml\n",
    "apiVersion: machinelearning.seldon.io/v1alpha2\n",
    "kind: SeldonDeployment\n",
    "metadata:\n",
    "  name: tfserving\n",
    "spec:\n",
    "  name: mnist\n",
    "  predictors:\n",
    "  - graph:\n",
    "      children: []\n",
    "      implementation: TENSORFLOW_SERVER\n",
    "      modelUri: gs://seldon-models/tfserving/mnist-model\n",
    "      name: mnist-model\n",
    "      parameters:\n",
    "        - name: signature_name\n",
    "          type: STRING\n",
    "          value: predict_images\n",
    "        - name: model_name\n",
    "          type: STRING\n",
    "          value: mnist-model\n",
    "        - name: model_input\n",
    "          type: STRING\n",
    "          value: images\n",
    "        - name: model_output\n",
    "          type: STRING\n",
    "          value: scores     \n",
    "    name: default\n",
    "    replicas: 1"
   ]
  },
  {
   "cell_type": "code",
   "execution_count": 24,
   "metadata": {},
   "outputs": [
    {
     "name": "stdout",
     "output_type": "stream",
     "text": [
      "seldondeployment.machinelearning.seldon.io/tfserving created\n"
     ]
    }
   ],
   "source": [
    "!kubectl apply -f ./resources/mnist_rest.yaml"
   ]
  },
  {
   "cell_type": "code",
   "execution_count": 25,
   "metadata": {},
   "outputs": [
    {
     "name": "stdout",
     "output_type": "stream",
     "text": [
      "Waiting for deployment \"tfserving-default-0-mnist-model\" rollout to finish: 0 of 1 updated replicas are available...\n",
      "deployment \"tfserving-default-0-mnist-model\" successfully rolled out\n"
     ]
    }
   ],
   "source": [
    "!kubectl rollout status deploy/$(kubectl get deploy -l seldon-deployment-id=tfserving -o jsonpath='{.items[0].metadata.name}')"
   ]
  },
  {
   "cell_type": "code",
   "execution_count": 26,
   "metadata": {},
   "outputs": [],
   "source": [
    "from seldon_core.seldon_client import SeldonClient\n",
    "\n",
    "sc = SeldonClient(deployment_name=\"tfserving\", namespace=\"seldon\")"
   ]
  },
  {
   "cell_type": "markdown",
   "metadata": {},
   "source": [
    "#### REST Request"
   ]
  },
  {
   "cell_type": "code",
   "execution_count": 27,
   "metadata": {},
   "outputs": [
    {
     "name": "stdout",
     "output_type": "stream",
     "text": [
      "Success:True message:\n",
      "Request:\n",
      "meta {\n",
      "}\n",
      "data {\n",
      "  tensor {\n",
      "    shape: 1\n",
      "    shape: 784\n",
      "    values: 0.26159061154478924\n",
      "    values: 0.5978679695872634\n",
      "    values: 0.05208381998680467\n",
      "    values: 0.23274089550858756\n",
      "    values: 0.008653953690374694\n",
      "    values: 0.14173756524491343\n",
      "    values: 0.519088496051332\n",
      "    values: 0.0629835390886605\n",
      "    values: 0.43630275050891976\n",
      "    values: 0.2680530359578768\n",
      "    values: 0.3715895754414089\n",
      "    values: 0.08805273116734891\n",
      "    values: 0.7266615273725539\n",
      "    values: 0.45836690505836175\n",
      "    values: 0.41807307558494977\n",
      "    values: 0.9521137038084864\n",
      "    values: 0.20244339937684908\n",
      "    values: 0.46027214912674375\n",
      "    values: 0.43711530140520705\n",
      "    values: 0.6763973225674381\n",
      "    values: 0.9020132252996329\n",
      "    values: 0.24834795114941477\n",
      "    values: 0.17454140326654033\n",
      "    values: 0.24566675818724448\n",
      "    values: 0.01471984700039819\n",
      "    values: 0.2750508496274514\n",
      "    values: 0.2144535905791437\n",
      "    values: 0.7807731998001437\n",
      "    values: 0.7567265018039269\n",
      "    values: 0.6291073301581481\n",
      "    values: 0.02333810651112178\n",
      "    values: 0.05696448636907547\n",
      "    values: 0.07543945338897107\n",
      "    values: 0.7014940542583156\n",
      "    values: 0.93174747961497\n",
      "    values: 0.6089951498592902\n",
      "    values: 0.17626305643174656\n",
      "    values: 0.7862517065574625\n",
      "    values: 0.6638932846451805\n",
      "    values: 0.1624696711067728\n",
      "    values: 0.9415989125910458\n",
      "    values: 0.5904332965086391\n",
      "    values: 0.012516708242324204\n",
      "    values: 0.4846637644100832\n",
      "    values: 0.7715866489208816\n",
      "    values: 0.5246074352991932\n",
      "    values: 0.05113274158817571\n",
      "    values: 0.8805389136606591\n",
      "    values: 0.13138044218949796\n",
      "    values: 0.38503505539648275\n",
      "    values: 0.7327612379852864\n",
      "    values: 0.07585500826448799\n",
      "    values: 0.8481566299835116\n",
      "    values: 0.32743425610023347\n",
      "    values: 0.22743468382304677\n",
      "    values: 0.8431036205602926\n",
      "    values: 0.7657534539161577\n",
      "    values: 0.9987995330666402\n",
      "    values: 0.24932648612158226\n",
      "    values: 0.08715933897413375\n",
      "    values: 0.6282423803966005\n",
      "    values: 0.957973129822682\n",
      "    values: 0.06242311094395592\n",
      "    values: 0.8621889098466513\n",
      "    values: 0.019054505470419536\n",
      "    values: 0.6819929384743606\n",
      "    values: 0.17711076893206534\n",
      "    values: 0.3988218372252027\n",
      "    values: 0.5205644838672966\n",
      "    values: 0.2416777807367141\n",
      "    values: 0.6298851977454513\n",
      "    values: 0.9355036416612571\n",
      "    values: 0.6044696101285751\n",
      "    values: 0.4309107781495475\n",
      "    values: 0.6911380518827713\n",
      "    values: 0.38574615952292923\n",
      "    values: 0.0619086771379912\n",
      "    values: 0.42327247285771563\n",
      "    values: 0.8281205338191758\n",
      "    values: 0.2293558092273068\n",
      "    values: 0.007472364097689255\n",
      "    values: 0.2343997371832648\n",
      "    values: 0.6987822014761453\n",
      "    values: 0.5779369550058275\n",
      "    values: 0.013899796914837337\n",
      "    values: 0.4086714164096613\n",
      "    values: 0.5450299382007175\n",
      "    values: 0.7514917797298136\n",
      "    values: 0.4391465988882106\n",
      "    values: 0.8773341515588223\n",
      "    values: 0.15089963497583203\n",
      "    values: 0.04507897788713622\n",
      "    values: 0.18122949123035592\n",
      "    values: 0.9126557750973372\n",
      "    values: 0.30722100105501093\n",
      "    values: 0.8479080442103223\n",
      "    values: 0.08544251274096093\n",
      "    values: 0.8335039693006554\n",
      "    values: 0.3133882371079849\n",
      "    values: 0.4578362422575615\n",
      "    values: 0.6017646875396775\n",
      "    values: 0.8831287062124\n",
      "    values: 0.4645177936241479\n",
      "    values: 0.9555986580451228\n",
      "    values: 0.3525701859687227\n",
      "    values: 0.9734302558295601\n",
      "    values: 0.01467349021420361\n",
      "    values: 0.1288155943016539\n",
      "    values: 0.8615217334846408\n",
      "    values: 0.5620242118648356\n",
      "    values: 0.43493416055921763\n",
      "    values: 0.8510096975807635\n",
      "    values: 0.6951697407505899\n",
      "    values: 0.4936696296441192\n",
      "    values: 0.658476503778333\n",
      "    values: 0.5618067289735028\n",
      "    values: 0.6033008850812968\n",
      "    values: 0.550487972335027\n",
      "    values: 0.7685016526146538\n",
      "    values: 0.12761762277362532\n",
      "    values: 0.2516686112490998\n",
      "    values: 0.4122743686913509\n",
      "    values: 0.023043942813521068\n",
      "    values: 0.6970356545258669\n",
      "    values: 0.4662571861428806\n",
      "    values: 0.6059899339237973\n",
      "    values: 0.016322535295399287\n",
      "    values: 0.11327078190162265\n",
      "    values: 0.7753647126433123\n",
      "    values: 0.023049190038033962\n",
      "    values: 0.5486787911821694\n",
      "    values: 0.4478497324018884\n",
      "    values: 0.6583480345598368\n",
      "    values: 0.449697677640187\n",
      "    values: 0.7101773334433735\n",
      "    values: 0.0917871171182223\n",
      "    values: 0.853988783497854\n",
      "    values: 0.5649510164479777\n",
      "    values: 0.7864859918993633\n",
      "    values: 0.17090568397350858\n",
      "    values: 0.45277268517016445\n",
      "    values: 0.291930713772128\n",
      "    values: 0.914890440509963\n",
      "    values: 0.06409218382112825\n",
      "    values: 0.32488701401178255\n",
      "    values: 0.30858794446862825\n",
      "    values: 0.07436628640242648\n",
      "    values: 0.12671635513711432\n",
      "    values: 0.6291251289276453\n",
      "    values: 0.6940148773395437\n",
      "    values: 0.8093935078653369\n",
      "    values: 0.7129479104158859\n",
      "    values: 0.8548126276007656\n",
      "    values: 0.7902868186348393\n",
      "    values: 0.5892660836715123\n",
      "    values: 0.1648527979414125\n",
      "    values: 0.9606680570978849\n",
      "    values: 0.32533011084553687\n",
      "    values: 0.9944438528575348\n",
      "    values: 0.42515771817555703\n",
      "    values: 0.9706251083233264\n",
      "    values: 0.8365738830615161\n",
      "    values: 0.02311547431210559\n",
      "    values: 0.5772967205977876\n",
      "    values: 0.04639401966328505\n",
      "    values: 0.6138801376688018\n",
      "    values: 0.9618183261371596\n",
      "    values: 0.9955912286259709\n",
      "    values: 0.8971994190951036\n",
      "    values: 0.5771566702446871\n",
      "    values: 0.766229731361841\n",
      "    values: 0.269791431914736\n",
      "    values: 0.7247088740293056\n",
      "    values: 0.9331506359568468\n",
      "    values: 0.6176262645228112\n",
      "    values: 0.6948883329868077\n",
      "    values: 0.11887409060980558\n",
      "    values: 0.4305958813464915\n",
      "    values: 0.1393677426237243\n",
      "    values: 0.1390416084108086\n",
      "    values: 0.3935143168008399\n",
      "    values: 0.1394363094338006\n",
      "    values: 0.8208101899742164\n",
      "    values: 0.5089107077896815\n",
      "    values: 0.40722810315894065\n",
      "    values: 0.3118079063773417\n",
      "    values: 0.6620813134395673\n",
      "    values: 0.4988112917940384\n",
      "    values: 0.3743107442049436\n",
      "    values: 0.027224976300110004\n",
      "    values: 0.2848820729328788\n",
      "    values: 0.3353509249698632\n",
      "    values: 0.6140230885705489\n",
      "    values: 0.18019832596391772\n",
      "    values: 0.3362805170075184\n",
      "    values: 0.3425592320475599\n",
      "    values: 0.04037521927773746\n",
      "    values: 0.69236859669522\n",
      "    values: 0.10073303465273098\n",
      "    values: 0.42448420742701776\n",
      "    values: 0.5860848627180676\n",
      "    values: 0.39860978507356515\n",
      "    values: 0.6039194685968642\n",
      "    values: 0.062407432570369736\n",
      "    values: 0.19844568979166333\n",
      "    values: 0.8049356310891882\n",
      "    values: 0.714667528911289\n",
      "    values: 0.9395707635510893\n",
      "    values: 0.9284147259271794\n",
      "    values: 0.6902290523422838\n",
      "    values: 0.9789389033336819\n",
      "    values: 0.22897297709174547\n",
      "    values: 0.8267065117050093\n",
      "    values: 0.49035742921383174\n",
      "    values: 0.9689514303906738\n",
      "    values: 0.07951808857604237\n",
      "    values: 0.3299812607524626\n",
      "    values: 0.4377298008750188\n",
      "    values: 0.670662858029097\n",
      "    values: 0.16937649239072416\n",
      "    values: 0.4432412738527539\n",
      "    values: 0.5344612369300897\n",
      "    values: 0.8650741996901805\n",
      "    values: 0.4714150760177088\n",
      "    values: 0.21932061463873398\n",
      "    values: 0.17956922070136716\n",
      "    values: 0.9608601132105307\n",
      "    values: 0.86653453379842\n",
      "    values: 0.1575918516100121\n",
      "    values: 0.7846479841993531\n",
      "    values: 0.04815995015032459\n",
      "    values: 0.8321949245280422\n",
      "    values: 0.8881777013926966\n",
      "    values: 0.5808365175052171\n",
      "    values: 0.09116380676234803\n",
      "    values: 0.9084694923130893\n",
      "    values: 0.16048382693608765\n",
      "    values: 0.8368923625874581\n",
      "    values: 0.30788477979275053\n",
      "    values: 0.7673300512480304\n",
      "    values: 0.4421023605906156\n",
      "    values: 0.4924267420898586\n",
      "    values: 0.6555919836158366\n",
      "    values: 0.34874127296729396\n",
      "    values: 0.658066642651723\n",
      "    values: 0.649560331296272\n",
      "    values: 0.9792379512625399\n",
      "    values: 0.5549593301036572\n",
      "    values: 0.19546268969830416\n",
      "    values: 0.08872502564946716\n",
      "    values: 0.9675382247126971\n",
      "    values: 0.349061049218342\n",
      "    values: 0.26775043080285166\n",
      "    values: 0.014415736057618589\n",
      "    values: 0.32975411377140085\n",
      "    values: 0.5637363366271306\n",
      "    values: 0.8011971078362263\n",
      "    values: 0.09803250060345547\n",
      "    values: 0.8317709921672444\n",
      "    values: 0.21069632749012857\n",
      "    values: 0.6881181660965323\n",
      "    values: 0.627305651670177\n",
      "    values: 0.9590933424579301\n",
      "    values: 0.7608502566750945\n",
      "    values: 0.02964032311734921\n",
      "    values: 0.023407215221755928\n",
      "    values: 0.942933684020392\n",
      "    values: 0.2965322579403683\n",
      "    values: 0.670109422227354\n",
      "    values: 0.34580026289614096\n",
      "    values: 0.4010068029405327\n",
      "    values: 0.8943389188952442\n",
      "    values: 0.22107303439262427\n",
      "    values: 0.37349605272716524\n",
      "    values: 0.2889067498650001\n",
      "    values: 0.7353857490229928\n",
      "    values: 0.9708468291411644\n",
      "    values: 0.450133171773451\n",
      "    values: 0.981015448633493\n",
      "    values: 0.7298713223309305\n",
      "    values: 0.12132117607174664\n",
      "    values: 0.4419135692087327\n",
      "    values: 0.9274382941298274\n",
      "    values: 0.43813487095281123\n",
      "    values: 0.2746789815368713\n",
      "    values: 0.5293898237285543\n",
      "    values: 0.6615016212113229\n",
      "    values: 0.7960890489056105\n",
      "    values: 0.7564083447777573\n",
      "    values: 0.696494194245164\n",
      "    values: 0.23566376777845288\n",
      "    values: 0.15785636761546473\n",
      "    values: 0.7818399097927288\n",
      "    values: 0.9335607596427502\n",
      "    values: 0.2738951892102012\n",
      "    values: 0.049772439862290296\n",
      "    values: 0.15051158946756948\n",
      "    values: 0.4804127214767847\n",
      "    values: 0.8082930174226186\n",
      "    values: 0.6621054085887303\n",
      "    values: 0.9200088036417157\n",
      "    values: 0.9652428295776692\n",
      "    values: 0.8906930783360364\n",
      "    values: 0.6363922424059971\n",
      "    values: 0.15157942049757744\n",
      "    values: 0.409765178390869\n",
      "    values: 0.6219808896403964\n",
      "    values: 0.41955527274541915\n",
      "    values: 0.5221234447976688\n",
      "    values: 0.5916443618837636\n",
      "    values: 0.49648676999191776\n",
      "    values: 0.41312187188197924\n",
      "    values: 0.720870930500615\n",
      "    values: 0.37044688821321803\n",
      "    values: 0.5124201957543401\n",
      "    values: 0.5835492606093635\n",
      "    values: 0.21339906393002195\n",
      "    values: 0.04060575675648459\n",
      "    values: 0.4342362602458989\n",
      "    values: 0.609142325285046\n",
      "    values: 0.459614150159823\n",
      "    values: 0.571413802324519\n",
      "    values: 0.7928146478897525\n",
      "    values: 0.8309064280076933\n",
      "    values: 0.8785119480070768\n",
      "    values: 0.37763959618697207\n",
      "    values: 0.9835948668647234\n",
      "    values: 0.43373570912804904\n",
      "    values: 0.9564126346704972\n",
      "    values: 0.22977820114238068\n",
      "    values: 0.9280967550914614\n",
      "    values: 0.8924945689679143\n",
      "    values: 0.02789227757130741\n",
      "    values: 0.5358149861826133\n",
      "    values: 0.6829432586462013\n",
      "    values: 0.38603120966936244\n",
      "    values: 0.8353088908757262\n",
      "    values: 0.6868072085487977\n",
      "    values: 0.09763323464449725\n",
      "    values: 0.03905164998227406\n",
      "    values: 0.4495170231584795\n",
      "    values: 0.8492802157765932\n",
      "    values: 0.49167628102148053\n",
      "    values: 0.36476613248091205\n",
      "    values: 0.2514335014105582\n",
      "    values: 0.6441976932706666\n",
      "    values: 0.6221728807986752\n",
      "    values: 0.03183650982491837\n",
      "    values: 0.3417049171372961\n",
      "    values: 0.1451349524957386\n",
      "    values: 0.7928969482304256\n",
      "    values: 0.9888038817858741\n",
      "    values: 0.9701435932681468\n",
      "    values: 0.11123063744869643\n",
      "    values: 0.9009380559030814\n",
      "    values: 0.9987789491601198\n",
      "    values: 0.40429990523787185\n",
      "    values: 0.11786354991359727\n",
      "    values: 0.08037028587405393\n",
      "    values: 0.5292665478817272\n",
      "    values: 0.8864062247915739\n",
      "    values: 0.5237742492987898\n",
      "    values: 0.6014101810881712\n",
      "    values: 0.03840651118402372\n",
      "    values: 0.8245644854968308\n",
      "    values: 0.7698442814753217\n",
      "    values: 0.47119785888625454\n",
      "    values: 0.9072663735985587\n",
      "    values: 0.5071312841989092\n",
      "    values: 0.20254164286598053\n",
      "    values: 0.963818669989964\n",
      "    values: 0.7785894555797728\n",
      "    values: 0.885017671499709\n",
      "    values: 0.6721709704601471\n",
      "    values: 0.1976358708307192\n",
      "    values: 0.6112461081633487\n",
      "    values: 0.15670208119446927\n",
      "    values: 0.8721906145903878\n",
      "    values: 0.45395289138266226\n",
      "    values: 0.017700620528620092\n",
      "    values: 0.5088441103283281\n",
      "    values: 0.5945565540740274\n",
      "    values: 0.7434558639923187\n",
      "    values: 0.2581288789502534\n",
      "    values: 0.0653375826419309\n",
      "    values: 0.2402705992325429\n",
      "    values: 0.8771865094068635\n",
      "    values: 0.7046702370191343\n",
      "    values: 0.4240577204875444\n",
      "    values: 0.27564519091913975\n",
      "    values: 0.3986628519022424\n",
      "    values: 0.7563761398754797\n",
      "    values: 0.8557211915814623\n",
      "    values: 0.782276624338478\n",
      "    values: 0.5468024437379227\n",
      "    values: 0.8936168602243051\n",
      "    values: 0.7291286986644416\n",
      "    values: 0.5491196603353691\n",
      "    values: 0.8609187794789449\n",
      "    values: 0.4591231907269673\n",
      "    values: 0.9976521434541429\n",
      "    values: 0.4126796148461167\n",
      "    values: 0.0066228904487526385\n",
      "    values: 0.8516320678627894\n",
      "    values: 0.7279316796426522\n",
      "    values: 0.7415515296831282\n",
      "    values: 0.2626658171024331\n",
      "    values: 0.27979272316816095\n",
      "    values: 0.29685524597085955\n",
      "    values: 0.7025162912931194\n",
      "    values: 0.2149365895500983\n",
      "    values: 0.5221764330450657\n",
      "    values: 0.90294002684785\n",
      "    values: 0.5182755843484448\n",
      "    values: 0.1650170926808494\n",
      "    values: 0.8247641601279366\n",
      "    values: 0.9686002443989572\n",
      "    values: 0.14293719521660886\n",
      "    values: 0.2585013580247605\n",
      "    values: 0.22483936452316122\n",
      "    values: 0.20852687458639974\n",
      "    values: 0.5868156349619447\n",
      "    values: 0.3173709954663091\n",
      "    values: 0.8491134429254342\n",
      "    values: 0.7966273035742352\n",
      "    values: 0.6505819254909982\n",
      "    values: 0.3077150184764794\n",
      "    values: 0.07948627649732987\n",
      "    values: 0.8221668195360677\n",
      "    values: 0.35430814338504923\n",
      "    values: 0.22370163774960894\n",
      "    values: 0.012382236292017179\n",
      "    values: 0.23585090827978872\n",
      "    values: 0.139341943810964\n",
      "    values: 0.4330968775349482\n",
      "    values: 0.8292895548363112\n",
      "    values: 0.7765891032642354\n",
      "    values: 0.3789696592270224\n",
      "    values: 0.43772505413871277\n",
      "    values: 0.12735559196235213\n",
      "    values: 0.5412339756980856\n",
      "    values: 0.9962734176465381\n",
      "    values: 0.21244914299417372\n",
      "    values: 0.10308571875846717\n",
      "    values: 0.6132224907732317\n",
      "    values: 0.40413208272329004\n",
      "    values: 0.6496925823631742\n",
      "    values: 0.3679067207181149\n",
      "    values: 0.7068171088291146\n",
      "    values: 0.37576114183045783\n",
      "    values: 0.7217939858455511\n",
      "    values: 0.5551403916631944\n",
      "    values: 0.24742723666068767\n",
      "    values: 0.4511689069628707\n",
      "    values: 0.08449361936951538\n",
      "    values: 0.577221467498675\n",
      "    values: 0.20322748609750563\n",
      "    values: 0.790663915191739\n",
      "    values: 0.8376279414289519\n",
      "    values: 0.20809437032864864\n",
      "    values: 0.34602756406780943\n",
      "    values: 0.9153580092936535\n",
      "    values: 0.3393695892192805\n",
      "    values: 0.3213757865867084\n",
      "    values: 0.7200260811012711\n",
      "    values: 0.10129596389764806\n",
      "    values: 0.9052230785122973\n",
      "    values: 0.6793297087282237\n",
      "    values: 0.4217626583386028\n",
      "    values: 0.5809870314649075\n",
      "    values: 0.30172909750209054\n",
      "    values: 0.831961904101851\n",
      "    values: 0.3920060634414223\n",
      "    values: 0.0976260348243404\n",
      "    values: 0.8783344160775998\n",
      "    values: 0.9985763876961562\n",
      "    values: 0.23503121103468616\n",
      "    values: 0.7574131833362799\n",
      "    values: 0.009402412567532381\n",
      "    values: 0.7899931778232884\n",
      "    values: 0.8224012728659378\n",
      "    values: 0.23248422864725482\n",
      "    values: 0.9681110873656673\n",
      "    values: 0.001372359578239446\n",
      "    values: 0.698500089407402\n",
      "    values: 0.5385444040963565\n",
      "    values: 0.12261967817246378\n",
      "    values: 0.15023259017148027\n",
      "    values: 0.9925108767181399\n",
      "    values: 0.507809901374285\n",
      "    values: 0.9726261719677816\n",
      "    values: 0.4549711765675325\n",
      "    values: 0.5860008976732903\n",
      "    values: 0.8177446166860953\n",
      "    values: 0.1919906430534648\n",
      "    values: 0.10162502626943504\n",
      "    values: 0.6419179267108283\n",
      "    values: 0.29345736112207244\n",
      "    values: 0.15588542147008\n",
      "    values: 0.7903079518262429\n",
      "    values: 0.6407109775806689\n",
      "    values: 0.40919259851135215\n",
      "    values: 0.0651070732484248\n",
      "    values: 0.5033652153219343\n",
      "    values: 0.30142114494095384\n",
      "    values: 0.5005339700894541\n",
      "    values: 0.17258433235202897\n",
      "    values: 0.3417824446815285\n",
      "    values: 0.7305448886488805\n",
      "    values: 0.04780744688053906\n",
      "    values: 0.8857114006746716\n",
      "    values: 0.13051241570742522\n",
      "    values: 0.03095437144621993\n",
      "    values: 0.3275512114365151\n",
      "    values: 0.8468801734896693\n",
      "    values: 0.8377471972318404\n",
      "    values: 0.7393891069242355\n",
      "    values: 0.4282585114547922\n",
      "    values: 0.9246822255754261\n",
      "    values: 0.33393088812126814\n",
      "    values: 0.6701805479062107\n",
      "    values: 0.026016408853495765\n",
      "    values: 0.03256260962387336\n",
      "    values: 0.4729495664803479\n",
      "    values: 0.5147948267143669\n",
      "    values: 0.23045212191071274\n",
      "    values: 0.1945996949902179\n",
      "    values: 0.5496879806768331\n",
      "    values: 0.46726633042074395\n",
      "    values: 0.17362763527589675\n",
      "    values: 0.8916753376512518\n",
      "    values: 0.451261683291453\n",
      "    values: 0.4189323191034593\n",
      "    values: 0.9343515205116121\n",
      "    values: 0.36396134239929534\n",
      "    values: 0.16708768895919512\n",
      "    values: 0.6114683928919395\n",
      "    values: 0.07815977419071396\n",
      "    values: 0.6032644591531512\n",
      "    values: 0.40949583621701335\n",
      "    values: 0.3433824594076803\n",
      "    values: 0.2806154569679583\n",
      "    values: 0.4159287840018602\n",
      "    values: 0.41436483961214876\n",
      "    values: 0.6095264395914324\n",
      "    values: 0.30420199772121614\n",
      "    values: 0.09458030096089298\n",
      "    values: 0.6911590186628397\n",
      "    values: 0.4780939874614115\n",
      "    values: 0.8949467676911397\n",
      "    values: 0.4796223338512966\n",
      "    values: 0.6329481444358487\n",
      "    values: 0.6667674824194033\n",
      "    values: 0.37687006845915716\n",
      "    values: 0.5008697769088982\n",
      "    values: 0.9744392559885364\n",
      "    values: 0.48040934189111784\n",
      "    values: 0.9915072713891356\n",
      "    values: 0.3391347613294807\n",
      "    values: 0.3030093794789218\n",
      "    values: 0.0015422548612122888\n",
      "    values: 0.2542932183450416\n",
      "    values: 0.3310432808556003\n",
      "    values: 0.15142864889282293\n",
      "    values: 0.018550836559682704\n",
      "    values: 0.3909963988096691\n",
      "    values: 0.08764727666284511\n",
      "    values: 0.529944538345535\n",
      "    values: 0.8459271670936314\n",
      "    values: 0.9743507432492564\n",
      "    values: 0.0055799979660428045\n",
      "    values: 0.24958578754764993\n",
      "    values: 0.3694105975230124\n",
      "    values: 0.897772260462453\n",
      "    values: 0.6324794356847725\n",
      "    values: 0.354912618645017\n",
      "    values: 0.18419502915043662\n",
      "    values: 0.39598066787545505\n",
      "    values: 0.12209336816885852\n",
      "    values: 0.41102403499629436\n",
      "    values: 0.5195008095696502\n",
      "    values: 0.17898692786940718\n",
      "    values: 0.9440375426674918\n",
      "    values: 0.3641868822075842\n",
      "    values: 0.916873511674573\n",
      "    values: 0.8806110830904866\n",
      "    values: 0.8070530223024186\n",
      "    values: 0.6545292970309893\n",
      "    values: 0.8141172708908643\n",
      "    values: 0.23950535063167944\n",
      "    values: 0.17176627448868975\n",
      "    values: 0.22897544991753183\n",
      "    values: 0.3725011766555574\n",
      "    values: 0.328108344071222\n",
      "    values: 0.07978046002830275\n",
      "    values: 0.5573603171981046\n",
      "    values: 0.6724720533235411\n",
      "    values: 0.011486875244106187\n",
      "    values: 0.23437371699929765\n",
      "    values: 0.5580934089253116\n",
      "    values: 0.3649610084545786\n",
      "    values: 0.05450766389684791\n",
      "    values: 0.157808625018934\n",
      "    values: 0.5998484716358096\n",
      "    values: 0.7383577595243643\n",
      "    values: 0.02973261102800051\n",
      "    values: 0.9466323632394542\n",
      "    values: 0.6781992399039964\n",
      "    values: 0.9184112545026013\n",
      "    values: 0.7701517218076799\n",
      "    values: 0.23749357599851162\n",
      "    values: 0.27576515842360594\n",
      "    values: 0.2120612589973896\n",
      "    values: 0.4975493822504301\n",
      "    values: 0.6264494058683069\n",
      "    values: 0.3252824018032304\n",
      "    values: 0.4709633452601676\n",
      "    values: 0.1622805821382235\n",
      "    values: 0.9364105684102857\n",
      "    values: 0.20893167196169304\n",
      "    values: 0.2089463551880255\n",
      "    values: 0.8382220124739338\n",
      "    values: 0.2949770247205298\n",
      "    values: 0.9525310920440645\n",
      "    values: 0.8581999185193337\n",
      "    values: 0.6813569551449662\n",
      "    values: 0.6715318991574459\n",
      "    values: 0.6462745230154293\n",
      "    values: 0.07960089238092494\n",
      "    values: 0.39477759620975006\n",
      "    values: 0.09262502377010706\n",
      "    values: 0.7068455002531978\n",
      "    values: 0.9228406828285978\n",
      "    values: 0.2518055050980096\n",
      "    values: 0.48806918211170736\n",
      "    values: 0.4751923123062599\n",
      "    values: 0.5472745928041151\n",
      "    values: 0.20885079821987662\n",
      "    values: 0.4897847319854941\n",
      "    values: 0.08587989031784693\n",
      "    values: 0.5144836564107778\n",
      "    values: 0.7587709047096245\n",
      "    values: 0.43270877677889374\n",
      "    values: 0.6368977271162743\n",
      "    values: 0.2555221056725192\n",
      "    values: 0.05827785780481842\n",
      "    values: 0.5369446266539363\n",
      "    values: 0.43638543873590907\n",
      "    values: 0.39091956426599217\n",
      "    values: 0.48820365884709094\n",
      "    values: 0.53937544225559\n",
      "    values: 0.7664602028286878\n",
      "    values: 0.031870785973156734\n",
      "    values: 0.379370048052894\n",
      "    values: 0.9288181511988602\n",
      "    values: 0.056192705291146616\n",
      "    values: 0.6501473595710434\n",
      "    values: 0.008046761993023344\n",
      "    values: 0.6213726053868033\n",
      "    values: 0.7560063555307148\n",
      "    values: 0.6204099004033116\n",
      "    values: 0.2532044003643559\n",
      "    values: 0.9451088801595869\n",
      "    values: 0.06574331302751779\n",
      "    values: 0.10340580390986509\n",
      "    values: 0.900609094304388\n",
      "    values: 0.41582259387267917\n",
      "    values: 0.08873813499331151\n",
      "    values: 0.2497419839937105\n",
      "    values: 0.9124251131540572\n",
      "    values: 0.27940313710491993\n",
      "    values: 0.019524710174128157\n",
      "    values: 0.17033395747696556\n",
      "    values: 0.832562823143928\n",
      "    values: 0.22175559094952757\n",
      "    values: 0.7294970886770158\n",
      "    values: 0.2763063731405915\n",
      "    values: 0.06410778639696013\n",
      "    values: 0.956585794960866\n",
      "    values: 0.7909902356846084\n",
      "    values: 0.12351738737842322\n",
      "    values: 0.428927800119107\n",
      "    values: 0.7942245553963126\n",
      "    values: 0.9001935923623569\n",
      "    values: 0.07918541572240767\n",
      "    values: 0.39964313837402765\n",
      "    values: 0.5260888418899794\n",
      "    values: 0.6101113060486903\n",
      "    values: 0.8457743713725211\n",
      "    values: 0.0019529622537178826\n",
      "    values: 0.8299198011250075\n",
      "    values: 0.09599207995815173\n",
      "    values: 0.07587768542509343\n",
      "    values: 0.7804090342484029\n",
      "    values: 0.09007883308888931\n",
      "    values: 0.9134545292811712\n",
      "    values: 0.6750493101354399\n",
      "    values: 0.22365683838266404\n",
      "    values: 0.5846505516057902\n",
      "    values: 0.6862403202164299\n",
      "    values: 0.9161269876999538\n",
      "    values: 0.5140516918052278\n",
      "    values: 0.6599564939615064\n",
      "    values: 0.7335602418729787\n",
      "    values: 0.7441930336453757\n",
      "    values: 0.9698263593640587\n",
      "    values: 0.6362807638237173\n",
      "    values: 0.8611501468750689\n",
      "    values: 0.4208093115870988\n",
      "    values: 0.7546573409445013\n",
      "    values: 0.7063122108979732\n",
      "    values: 0.6508831538822036\n",
      "    values: 0.35564563988201003\n",
      "    values: 0.8475791152523557\n",
      "    values: 0.37985063638642624\n",
      "    values: 0.10220001197290385\n",
      "    values: 0.18858063291521354\n",
      "    values: 0.9655549406087871\n",
      "    values: 0.5450611868007937\n",
      "    values: 0.38303270370213616\n",
      "    values: 0.9287118648905823\n",
      "    values: 0.9725247510513285\n",
      "    values: 0.5288775493426922\n",
      "    values: 0.43559330718583933\n",
      "    values: 0.6398780174036586\n",
      "    values: 0.6316888305619197\n",
      "    values: 0.014559051017761337\n",
      "    values: 0.9635720326836216\n",
      "    values: 0.2739434046208956\n",
      "    values: 0.045379283813550275\n",
      "    values: 0.5112430056892281\n",
      "    values: 0.1907022894820225\n",
      "    values: 0.9576084564418105\n",
      "    values: 0.9198136857479061\n",
      "    values: 0.20190721198746708\n",
      "    values: 0.05984878200098831\n",
      "    values: 0.9860763435680663\n",
      "    values: 0.26049252662506917\n",
      "    values: 0.8893056461843907\n",
      "    values: 0.5113325492290244\n",
      "    values: 0.20586428258683553\n",
      "    values: 0.8580450566303055\n",
      "    values: 0.2671246793218883\n",
      "    values: 0.03577264234923205\n",
      "    values: 0.9089511605080329\n",
      "    values: 0.06903188224738421\n",
      "    values: 0.6625426803943423\n",
      "    values: 0.07753214751079562\n",
      "    values: 0.7879630033159674\n",
      "    values: 0.6294190698422654\n",
      "    values: 0.8139728714296709\n",
      "    values: 0.3114124843140046\n",
      "    values: 0.2017641978883793\n",
      "    values: 0.5183544896691898\n",
      "    values: 0.6806646718483363\n",
      "    values: 0.8839718444984734\n",
      "    values: 0.04076070578810753\n",
      "    values: 0.07756030041769535\n",
      "    values: 0.8748217520103875\n",
      "    values: 0.1359044714472516\n",
      "    values: 0.8684558625651904\n",
      "    values: 0.5844495964518458\n",
      "    values: 0.8040449654341363\n",
      "    values: 0.42121736608618676\n",
      "    values: 0.23121217004521988\n",
      "    values: 0.7648864776157102\n",
      "    values: 0.14078505036462563\n",
      "    values: 0.5975300562274173\n",
      "    values: 0.5658254747641432\n",
      "    values: 0.4690387821379056\n",
      "    values: 0.5576320427164999\n",
      "    values: 0.954142253969811\n",
      "    values: 0.8465804866048433\n",
      "    values: 0.45117830989590635\n",
      "    values: 0.4333052523534232\n",
      "    values: 0.6246858135993115\n",
      "    values: 0.508696552083073\n",
      "    values: 0.5097116626711035\n",
      "    values: 0.22861744518068994\n",
      "    values: 0.9141931346821743\n",
      "    values: 0.3847648457206244\n",
      "    values: 0.8161305340873445\n",
      "    values: 0.2528286580495307\n",
      "    values: 0.30769926826987615\n",
      "  }\n",
      "}\n",
      "\n",
      "Response:\n",
      "{'data': {'names': ['t:0', 't:1', 't:2', 't:3', 't:4', 't:5', 't:6', 't:7', 't:8', 't:9'], 'tensor': {'shape': [1, 10], 'values': [2.21921718e-20, 2.22121201e-31, 0.0770664141, 0.689968586, 7.32416558e-32, 0.232964918, 3.33131772e-17, 7.3489808e-12, 7.06988601e-08, 1.01961699e-17]}}, 'meta': {'requestPath': {'mnist-model': 'seldonio/tfserving-proxy:1.12.0'}}}\n"
     ]
    }
   ],
   "source": [
    "r = sc.predict(gateway=\"ambassador\", transport=\"rest\", shape=(1, 784))\n",
    "print(r)\n",
    "assert r.success == True"
   ]
  },
  {
   "cell_type": "markdown",
   "metadata": {},
   "source": [
    "#### gRPC Request"
   ]
  },
  {
   "cell_type": "code",
   "execution_count": 28,
   "metadata": {},
   "outputs": [
    {
     "name": "stdout",
     "output_type": "stream",
     "text": [
      "Success:True message:\n",
      "Request:\n",
      "{'meta': {}, 'data': {'tensor': {'shape': [1, 784], 'values': [0.9139454476992531, 0.4932613913288437, 0.9571623066007514, 0.6639772218772189, 0.3295261055168689, 0.24696937595400692, 0.8106341320514083, 0.7133939797517771, 0.12119179193696383, 0.3803082020881039, 0.41738664118881963, 0.738251729912892, 0.06322155848303368, 0.3848054490342666, 0.7830157163731858, 0.5951724510410215, 0.28995356203571176, 0.9097419890523416, 0.8486807095185366, 0.6383073076779627, 0.34745750076524295, 0.6646618219362266, 0.9315723329913571, 0.1876445879603481, 0.3824111492943494, 0.2537693178636482, 0.9777677882204832, 0.9207425887903827, 0.16137806466018967, 0.37617033997884153, 0.7318050916722261, 0.5734528188962631, 0.5421796234178323, 0.9473862071510191, 0.060872763518340256, 0.02802531867796243, 0.2128973732417323, 0.7245247154703015, 0.562364500124602, 0.8736350028180013, 0.6159922793131326, 0.1751130515426299, 0.7830854120439157, 0.10191895935011397, 0.8408934109846813, 0.3695782005200685, 0.2808481963702496, 0.9513087454009916, 0.16921885346796806, 0.17471674271182036, 0.09678634900005334, 0.2569784948798004, 0.9491714739045646, 0.5733648495480671, 0.6547158947737739, 0.9946086475744036, 0.5376482330680815, 0.1530682439353599, 0.5258108030829838, 0.2262080656519676, 0.7969411847533254, 0.9833898956740296, 0.23964596303015528, 0.3346952047932733, 0.7963850769744848, 0.4145000912928133, 0.5169236597355109, 0.38420763649405076, 0.895295449145916, 0.9214913915906182, 0.5799794931847354, 0.9554313155573267, 0.18408643121779555, 0.3462665641244431, 0.5418221820571973, 0.27973093851486563, 0.5246592530702998, 0.5919539230915245, 0.6236682011077004, 0.2832752097273402, 0.7549395708880399, 0.7754639010526516, 0.46368604357130494, 0.27504837498490775, 0.534076536003071, 0.6304389563101019, 0.7226532148987237, 0.9622411831861846, 0.656137094425637, 0.07460381701695973, 0.6062055417158373, 0.6561774440850604, 0.6697913522547043, 0.8060973248047643, 0.33094957350189025, 0.5022170047411784, 0.5621448538289364, 0.7802493171982355, 0.829727615878938, 0.9410550851836228, 0.11398761674279223, 0.515491732784487, 0.04530469093320033, 0.6286561125079316, 0.32513461570273616, 0.8921532630968854, 0.48167670679306573, 0.6469722023660429, 0.2264547127459713, 0.6340860316201363, 0.9376219940414313, 0.7215798721634391, 0.5749014733601455, 0.7856401321762926, 0.4566858225414464, 0.4521150045632353, 0.5993526194299288, 0.3765793841531814, 0.8543695570677519, 0.31153806905524384, 0.10016391318282769, 0.17158558416633085, 0.17202781599907713, 0.6924657281409602, 0.7073873368572071, 0.34174606457526635, 0.27827039707974754, 0.14130173308506222, 0.4111709915188776, 0.5803389339288532, 0.879300786265214, 0.45843364731974545, 0.605784745253906, 0.09982078356831448, 0.49348072070773463, 0.4524499581471614, 0.15886717678975393, 0.6590118690027482, 0.1572981711797694, 0.3682340681788093, 0.3183952473958249, 0.1401024283096145, 0.904515131841686, 0.12943760133858662, 0.34239698918233163, 0.4070527273536927, 0.3749785323789837, 0.9079363600554696, 0.01996096893143351, 0.6671408050265344, 0.696171073238093, 0.4157302303400412, 0.4298551949852102, 0.1611658392331261, 0.40529064042404694, 0.517267394276231, 0.15285137058678755, 0.6229339051768199, 0.6283152673773447, 0.8076274868474218, 0.24492893567974516, 0.300883383684836, 0.38346472443551016, 0.1407606026187208, 0.3152267072818722, 0.8683607799377814, 0.8146463335783888, 0.23262273957206037, 0.6294926497807383, 0.5364175676529394, 0.7522816865181766, 0.5940877472354458, 0.4547994923244739, 0.2212666949209795, 0.8661124447828028, 0.1383325885225406, 0.22667936053024806, 0.07318332708000208, 0.8190851072646984, 0.6199204164723577, 0.9975479553416149, 0.6332245874576752, 0.9123670022531273, 0.492919405780184, 0.7385270092117434, 0.9373910766753505, 0.05913497724081862, 0.9404554145245203, 0.7587140234032014, 0.008897693090352377, 0.8879285327895521, 0.5547703340172905, 0.8414110320049232, 0.9189822285728029, 0.2995312128298907, 0.5416939379472809, 0.8532180311843176, 0.33229046747180757, 0.37202941927228317, 0.1481739002087895, 0.7064605459304852, 0.18497687125458484, 0.7510194430727867, 0.4373032673651507, 0.6415148642944813, 0.7223121834038312, 0.9563743325781747, 0.5816435493559016, 0.502318887416551, 0.24036913652750058, 0.22683267362772452, 0.9325409898080899, 0.7582262961997708, 0.2712061335240651, 0.5201607426487679, 0.32808258350813957, 0.4788251871324023, 0.7774375733141691, 0.06289863180176714, 0.6803519241580883, 0.835289685923738, 0.23078881631420578, 0.3881765329087954, 0.6750281480270448, 0.6167891387361744, 0.8088956706243183, 0.6968135016542911, 0.816216124290672, 0.2616204995628443, 0.7841867831764784, 0.49362472130407453, 0.9671074575899896, 0.9764489726176583, 0.21718310685009634, 0.33826520980283337, 0.31753531188803774, 0.937031017676005, 0.23175229037228773, 0.9489754365434585, 0.029057197362044374, 0.2802402007254965, 0.24113652262822627, 0.7348377196742129, 0.400853281797099, 0.949356853813063, 0.08862794631426762, 0.672769007628496, 0.48429241068674844, 0.4513160552471591, 0.513126604874025, 0.8636439869972469, 0.348681746327023, 0.3584123226300805, 0.9964604224430339, 0.7770077275422455, 0.43676164150669106, 0.6201623801223624, 0.5486961623780715, 0.35562418789381, 0.26724517784584145, 0.6945703447854457, 0.27015462654764244, 0.7623334895742709, 0.35625222264709466, 0.23744933851275707, 0.33936661418430913, 0.6482903527359298, 0.9807376011603995, 0.045338777967861676, 0.7867810732866233, 0.11459088628098657, 0.7025362096245256, 0.7777123891498082, 0.48635802625573143, 0.27490740109994183, 0.14378819856017255, 0.45190687096539006, 0.6969324521010315, 0.6308575227194622, 0.009679188718182408, 0.4820442436372677, 0.1682134875502741, 0.1489583738836705, 0.27335559737882265, 0.2747000157338576, 0.6869748830645778, 0.3516432032025074, 0.5659213823486356, 0.3279142680884404, 0.9063166513824356, 0.5940644973491932, 0.3376617491921664, 0.9938379174772836, 0.9888655446055061, 0.29797810606804676, 0.40059804433473556, 0.4703762121268258, 0.6768642165889948, 0.9381688855512662, 0.8822666687215771, 0.8709367926880108, 0.3469638549945977, 0.4592874584607194, 0.969169234150651, 0.8440838105232563, 0.6571702072813197, 0.6905575615349424, 0.8237078637067857, 0.2420672675844494, 0.28775225942483074, 0.045820141702006434, 0.1425093425444195, 0.5374279322163776, 0.568771278762854, 0.9659938710357467, 0.5473032900970848, 0.25964421033564045, 0.6470164077281031, 0.7108895976069474, 0.041930056914147085, 0.276825755829629, 0.13347652640587448, 0.6051321964292419, 0.049597810295677225, 0.6496794034811253, 0.6864014700321001, 0.03819501006849291, 0.05014878981180093, 0.5475078759275056, 0.5043439399749359, 0.7896191450389923, 0.7186545153660054, 0.055559871048333265, 0.7182894797640765, 0.8802473040386644, 0.8609985836447562, 0.10356999350356655, 0.3274707430691529, 0.32050567934690066, 0.0209802904474099, 0.07558308995061835, 0.6189501686711474, 0.664705122714401, 0.21763814200382225, 0.47262103723541604, 0.9239638347490939, 0.9146126724881177, 0.6250779310777653, 0.27729873958030016, 0.4567137647702002, 0.774302842156025, 0.39434933203242983, 0.6022503337184923, 0.9165397935458242, 0.7091157043796193, 0.0970762378826463, 0.9096007170820669, 0.38935885152952154, 0.33630201337293775, 0.3643555176843303, 0.26366966344416276, 0.5699185088633029, 0.6305076656956708, 0.2015630429189823, 0.29395001649112473, 0.9414421196795962, 0.2616393636520804, 0.6596926113205087, 0.13635188524523711, 0.5786094121531179, 0.015112400676422166, 0.3861134801151519, 0.15881663474915098, 0.5349289537180852, 0.6565219875975913, 0.07464858749295222, 0.6903670411518924, 0.13162328681234292, 0.26667766017011485, 0.8226651741931021, 0.5180480415256254, 0.9403118723362845, 0.3934393871989822, 0.19793168721899912, 0.46535465952911836, 0.7485861539007436, 0.6945093538885526, 0.8678640063985223, 0.17871084187343922, 0.6768828535784759, 0.7005764669845627, 0.484328516626655, 0.5636722083215914, 0.5933562713073699, 0.9039825306052847, 0.15511481428690044, 0.4829873130215385, 0.9656788951618663, 0.16593725535634396, 0.7075511503427497, 0.7093434947192186, 0.776494507206238, 0.1046990324227346, 0.009758391821259815, 0.6959004785696528, 0.6796802037987144, 0.03939303949047257, 0.35923527504541386, 0.38499746494841725, 0.5129103844743392, 0.17327192321212026, 0.5011900037450845, 0.9078227370859545, 0.8825158073883809, 0.1362786705026291, 0.037084829434579136, 0.24628810574189008, 0.05077431278224365, 0.3252744912980676, 0.6737018589693087, 0.3166478138236881, 0.02837543925638797, 0.9655857211025439, 0.29962680401472186, 0.08226141741278759, 0.7096239068123548, 0.5844199580846664, 0.20259266476101878, 0.8082472075953434, 0.4185694641155244, 0.6764095622580126, 0.3401671785207657, 0.8633386911380317, 0.5736728911106371, 0.6244749290057886, 0.3277754507765783, 0.7791634094517048, 0.9622154169037002, 0.5321433449751274, 0.810250295650658, 0.12140414213228445, 0.5873649246376753, 0.7471345248012519, 0.98504447986632, 0.15103436097553724, 0.17468001749296702, 0.9115158078410802, 0.5935020416030707, 0.8243889793355677, 0.3175280857112278, 0.60800263244913, 0.5914613984396009, 0.4082634217048501, 0.468026423419736, 0.48117249663902395, 0.07769423588649849, 0.4614456274321159, 0.7567860296753876, 0.7971642580548326, 0.6483868237469251, 0.6015710987335916, 0.8644651613142115, 0.3481618197571299, 0.10069276049423825, 0.5489484808505368, 0.12284966281778864, 0.35636222566424214, 0.12726457057423757, 0.09721074525590512, 0.966008196948801, 0.8015193769513357, 0.06275780104417539, 0.2242252801380713, 0.7635931986087113, 0.2054832640724743, 0.25793663274699696, 0.13886930895236316, 0.6705970099166598, 0.02427936725923563, 0.5663470027054909, 0.13233661376277772, 0.3314592206977779, 0.8361137727363609, 0.8161748223972616, 0.16442700270154664, 0.30726552329510903, 0.5882062208757276, 0.22564531319048842, 0.8953026518031617, 0.25706557853700984, 0.6576809772579711, 0.7443681302592533, 0.9893958823237184, 0.10376714256555541, 0.17718897245147935, 0.764419483252316, 0.12034279744516263, 0.641153519145676, 0.26655431180144395, 0.5785934137369096, 0.1022744871604565, 0.5735785786841587, 0.7820143906508649, 0.12074043859639083, 0.34081756324295864, 0.9498702188642223, 0.07994708355669933, 0.10784636827530703, 0.2644335042054433, 0.6401554606833674, 0.6236481879552831, 0.8049701037784527, 0.12853400134588255, 0.44599458617579535, 0.43089449378771716, 0.043082504332090044, 0.4922161542410042, 0.5617628187276946, 0.8595156169237892, 0.1454262522588048, 0.45958262382045023, 0.8293564093971756, 0.07363643865398617, 0.9470897514373717, 0.8345396241776364, 0.6736356690211946, 0.017019007485036708, 0.5283818984740366, 0.1726370719872098, 0.7823575458590805, 0.6092122552626499, 0.20168650818343126, 0.2521149853930136, 0.8232949962067899, 0.8149575332213275, 0.7349199857724431, 0.5614885714082295, 0.2829647900431381, 0.2623353842999512, 0.4307140706229027, 0.22970197207855714, 0.256597012689347, 0.4337748691247322, 0.20520952577258422, 0.3871590078054432, 0.18003392550180342, 0.23759354037383018, 0.5700552119664164, 0.14272115205665448, 0.7294137829331651, 0.9007687183899262, 0.3137321171656995, 0.05799125291011831, 0.7200961213344874, 0.4582246207488371, 0.6500444826312641, 0.8249338095708271, 0.5026999322408494, 0.260396827696439, 0.5198023335056272, 0.19511664476954405, 0.922573572129206, 0.12055637529180463, 0.021118723058365596, 0.3193780885399171, 0.28357693151113506, 0.5222077604169213, 0.6391575152390667, 0.5727840494075823, 0.06374132969337942, 0.9114780940436857, 0.9752189554947579, 0.5530592905760795, 0.9391231048230192, 0.1750863366465638, 0.6557718064407032, 0.8450693227168735, 0.854805285721426, 0.6740496672537021, 0.2804151858956405, 0.3933640007596465, 0.1155965831398561, 0.20774035920905254, 0.15522371780909627, 0.4833812593749557, 0.7168929015204607, 0.9259271508847748, 0.05534187880206809, 0.8186994132200857, 0.002989606200584527, 0.4491234011897667, 0.5723580077896693, 0.08645725521867509, 0.3608208814671824, 0.44594710519414127, 0.04666485103076223, 0.06689401438630782, 0.7373096290133626, 0.28045918245667667, 0.8088352265760642, 0.2488284527664697, 0.6298940940477986, 0.026493715399725892, 0.1970137089552051, 0.09129166543852163, 0.4220644040234387, 0.42402574880990884, 0.8111109615869365, 0.05517249457610418, 0.4033106659984448, 0.31726212779476337, 0.0694144451844424, 0.11474129271490774, 0.17438445798891633, 0.08540659054869093, 0.6858476251584492, 0.5101574400258413, 0.3330490280208649, 0.10472240826393198, 0.07269391733951713, 0.4353215639984669, 0.4344381077074225, 0.3802192445031327, 0.14461273638834982, 0.8075584952852113, 0.2704335197276051, 0.9297845246708971, 0.22084140458778367, 0.24955212453441722, 0.1733775880234285, 0.5000131703692579, 0.25056767978199046, 0.3595476556165883, 0.43227388070924244, 0.673480072615266, 0.6247791202015938, 0.1759814239621118, 0.011775046592939598, 8.026701037822104e-05, 0.6597179188664998, 0.06381632822010264, 0.47690912960045173, 0.27676662237764726, 0.767024033556466, 0.9017435990951634, 0.08235322773069087, 0.36529936817467945, 0.6179124132593227, 0.4823958822059612, 0.8204392708193384, 0.5478722711013073, 0.26307406013343704, 0.39487781859602755, 0.6565619699452135, 0.33543322655390106, 0.5597508711532947, 0.29490235319875235, 0.21930880674062447, 0.3217469018016492, 0.21209209119500583, 0.18586884611676624, 0.5340619716691095, 0.7815455367358441, 0.29170236503760816, 0.7250165387079367, 0.8691032575221647, 0.7592129009868224, 0.189490209651199, 0.2959525679291819, 0.3367481742196595, 0.8271949687642983, 0.3299675591522756, 0.32744669413003225, 0.7830753662042484, 0.02993510885664208, 0.6247457268077705, 0.3495457650523779, 0.10348393857274008, 0.4521463115776111, 0.4128399367837253, 0.5640523950040868, 0.29216701890835595, 0.468092122036882, 0.1905140324364969, 0.1785137098112889, 0.027798515766315868, 0.3906204570620335, 0.191394977104844, 0.8945530443652017, 0.8551113996327924, 0.5418812208571145, 0.08992481111683492, 0.9819850564915575, 0.12802475428979565, 0.1543645117845135, 0.5526835925892154, 0.09248375831271705, 0.5088079287994418, 0.5621302000877619, 0.1976359432782281, 0.23647222406489044, 0.05922686298673552, 0.10787256376745369, 0.5846240315207278, 0.05282587381254411, 0.6363694771682795, 0.15316949516732015, 0.8960057469405289, 0.3858460028831917, 0.2226906942793253, 0.14515204123073877, 0.5916474713341254, 0.7340093802010362, 0.4317677002281659, 0.3823643044396987, 0.802670069627548, 0.7865314901161387, 0.6422472558669259, 0.9762135605305327, 0.5480839160172907, 0.4206755403177057, 0.41529567820662217, 0.29916735745840317, 0.146382665168597, 0.590339059148927, 0.6951387603983347, 0.7568408208489262, 0.5291750871764469, 0.1639397931773522, 0.21234392446794492, 0.27309245997246545, 0.6660130543119505, 0.4917810044808455, 0.8189040576455549, 0.5366510659324972, 0.3723117332035264, 0.7774812750870154, 0.7754696842142236, 0.07453586880857499, 0.9310328136456293, 0.8133912705211164, 0.0062277516769890795, 0.23926320813196833, 0.6846937494506165, 0.29128018604797923, 0.8715585334172137, 0.5676233525447615, 0.31471531562634913, 0.6247000174098131, 0.8793312097047644, 0.9527957514415671, 0.6448987549253652, 0.09277496819471587, 0.5025147735743422, 0.5848299354730861, 0.571917931912292, 0.2654015166677731, 0.08540097296766369, 0.7518455630721268, 0.7223441389518745, 0.6689511628716174, 0.30288036318482514, 0.09447006464776453, 0.21737733049759023, 0.18185920166376301, 0.6690376691856751, 0.5205743767381165, 0.991452368641036, 0.5423175912810329, 0.03733686567096617, 0.7123309778053107, 0.25073632571293125, 0.958761464993001, 0.5193533023198749, 0.5533049881123802, 0.7742160232782361, 0.5145652739782312, 0.33986262650635723, 0.8106983449883899, 0.3792285378146941, 0.043349726172185465, 0.8138056671448054, 0.5359800838209591, 0.11930654180175027]}}}\n",
      "Response:\n",
      "{'data': {'tftensor': {'dtype': 'DT_FLOAT', 'tensorShape': {'dim': [{'size': '1'}, {'size': '10'}]}, 'floatVal': [1.0774877e-21, 3.3717314e-33, 0.035874937, 0.02862328, 6.43544e-31, 0.9355013, 5.431027e-14, 1.4885128e-16, 5.613737e-07, 1.8179225e-16]}}}\n"
     ]
    }
   ],
   "source": [
    "r = sc.predict(gateway=\"ambassador\", transport=\"grpc\", shape=(1, 784))\n",
    "print(r)\n",
    "assert r.success == True"
   ]
  },
  {
   "cell_type": "markdown",
   "metadata": {},
   "source": [
    "And delete the model we deployed"
   ]
  },
  {
   "cell_type": "code",
   "execution_count": 29,
   "metadata": {},
   "outputs": [
    {
     "name": "stdout",
     "output_type": "stream",
     "text": [
      "seldondeployment.machinelearning.seldon.io \"tfserving\" deleted\n"
     ]
    }
   ],
   "source": [
    "!kubectl delete -f ./resources/mnist_rest.yaml"
   ]
  },
  {
   "cell_type": "markdown",
   "metadata": {},
   "source": [
    "### Serve Tensorflow Model with Tensorflow protocol\n",
    "\n",
    "The config file below shows how you can deploy your Tensorflow model which\n",
    "exposes the Tensorflow protocol."
   ]
  },
  {
   "cell_type": "code",
   "execution_count": null,
   "metadata": {},
   "outputs": [],
   "source": [
    "%%writefile ./resources/halfplustwo_rest.yaml\n",
    "apiVersion: machinelearning.seldon.io/v1alpha2\n",
    "kind: SeldonDeployment\n",
    "metadata:\n",
    "  name: hpt\n",
    "spec:\n",
    "  name: hpt\n",
    "  protocol: tensorflow\n",
    "  transport: rest\n",
    "  predictors:\n",
    "  - graph:\n",
    "      children: []\n",
    "      implementation: TENSORFLOW_SERVER\n",
    "      modelUri: gs://seldon-models/tfserving/half_plus_two\n",
    "      name:  halfplustwo\n",
    "      parameters:\n",
    "        - name: model_name\n",
    "          type: STRING\n",
    "          value: halfplustwo\n",
    "    name: default\n",
    "    replicas: 1"
   ]
  },
  {
   "cell_type": "code",
   "execution_count": null,
   "metadata": {},
   "outputs": [],
   "source": [
    "!kubectl apply -f ./resources/halfplustwo_rest.yaml"
   ]
  },
  {
   "cell_type": "code",
   "execution_count": null,
   "metadata": {},
   "outputs": [],
   "source": [
    "!kubectl rollout status deploy/$(kubectl get deploy -l seldon-deployment-id=hpt -o jsonpath='{.items[0].metadata.name}')"
   ]
  },
  {
   "cell_type": "code",
   "execution_count": null,
   "metadata": {},
   "outputs": [],
   "source": [
    "import json\n",
    "X=!curl -s -d '{\"instances\": [1.0, 2.0, 5.0]}' \\\n",
    "   -X POST http://localhost:8003/seldon/seldon/hpt/v1/models/halfplustwo/:predict \\\n",
    "   -H \"Content-Type: application/json\"\n",
    "d=json.loads(\"\".join(X))\n",
    "print(d)\n",
    "assert(d[\"predictions\"][0] == 2.5)"
   ]
  },
  {
   "cell_type": "code",
   "execution_count": null,
   "metadata": {},
   "outputs": [],
   "source": [
    "X=!cd ../executor/proto && grpcurl \\\n",
    "   -d '{\"model_spec\":{\"name\":\"halfplustwo\"},\"inputs\":{\"x\":{\"dtype\": 1, \"tensor_shape\": {\"dim\":[{\"size\": 3}]}, \"floatVal\" : [1.0, 2.0, 3.0]}}}' \\\n",
    "   -rpc-header seldon:hpt -rpc-header namespace:seldon \\\n",
    "   -plaintext -proto ./prediction_service.proto \\\n",
    "   0.0.0.0:8003 tensorflow.serving.PredictionService/Predict\n",
    "d=json.loads(\"\".join(X))\n",
    "print(d)\n",
    "assert(d[\"outputs\"][\"x\"][\"floatVal\"][0] == 2.5)"
   ]
  },
  {
   "cell_type": "code",
   "execution_count": null,
   "metadata": {},
   "outputs": [],
   "source": [
    "!kubectl delete -f ./resources/halfplustwo_rest.yaml"
   ]
  },
  {
   "cell_type": "markdown",
   "metadata": {},
   "source": [
    "## Serve MLFlow Elasticnet Wines Model\n",
    "We can deploy an MLFlow model uploaded to an object store by using the MLFlow\n",
    "model server implementation as the config below:"
   ]
  },
  {
   "cell_type": "code",
   "execution_count": 30,
   "metadata": {},
   "outputs": [
    {
     "name": "stdout",
     "output_type": "stream",
     "text": [
      "Writing ./resources/elasticnet_wine.yaml\n"
     ]
    }
   ],
   "source": [
    "%%writefile ./resources/elasticnet_wine.yaml\n",
    "apiVersion: machinelearning.seldon.io/v1alpha2\n",
    "kind: SeldonDeployment\n",
    "metadata:\n",
    "  name: mlflow\n",
    "spec:\n",
    "  name: wines\n",
    "  predictors:\n",
    "  - componentSpecs:\n",
    "    - spec:\n",
    "        # We are setting high failureThreshold as installing conda dependencies\n",
    "        # can take long time and we want to avoid k8s killing the container prematurely\n",
    "        containers:\n",
    "        - name: classifier\n",
    "          livenessProbe:\n",
    "            initialDelaySeconds: 80\n",
    "            failureThreshold: 200\n",
    "            periodSeconds: 5\n",
    "            successThreshold: 1\n",
    "            httpGet:\n",
    "              path: /health/ping\n",
    "              port: http\n",
    "              scheme: HTTP\n",
    "          readinessProbe:\n",
    "            initialDelaySeconds: 80\n",
    "            failureThreshold: 200\n",
    "            periodSeconds: 5\n",
    "            successThreshold: 1\n",
    "            httpGet:\n",
    "              path: /health/ping\n",
    "              port: http\n",
    "              scheme: HTTP\n",
    "    graph:\n",
    "      children: []\n",
    "      implementation: MLFLOW_SERVER\n",
    "      modelUri: gs://seldon-models/v1.10.0-dev/mlflow/elasticnet_wine\n",
    "      name: classifier\n",
    "    name: default\n",
    "    replicas: 1"
   ]
  },
  {
   "cell_type": "code",
   "execution_count": 31,
   "metadata": {},
   "outputs": [
    {
     "name": "stdout",
     "output_type": "stream",
     "text": [
      "seldondeployment.machinelearning.seldon.io/mlflow created\n"
     ]
    }
   ],
   "source": [
    "!kubectl apply -f ./resources/elasticnet_wine.yaml"
   ]
  },
  {
   "cell_type": "code",
   "execution_count": 32,
   "metadata": {},
   "outputs": [
    {
     "name": "stdout",
     "output_type": "stream",
     "text": [
      "Waiting for deployment \"mlflow-default-0-classifier\" rollout to finish: 0 of 1 updated replicas are available...\n",
      "^C\n"
     ]
    }
   ],
   "source": [
    "!kubectl rollout status deploy/$(kubectl get deploy -l seldon-deployment-id=mlflow -o jsonpath='{.items[0].metadata.name}')"
   ]
  },
  {
   "cell_type": "markdown",
   "metadata": {},
   "source": [
    "### REST requests"
   ]
  },
  {
   "cell_type": "code",
   "execution_count": null,
   "metadata": {},
   "outputs": [],
   "source": [
    "X=!curl -s -d '{\"data\": {\"ndarray\":[[0.1,0.2,0.3,0.4,0.5,0.6,0.7,0.8,0.9,1.0,1.1]]}}' \\\n",
    "   -X POST http://localhost:8003/seldon/seldon/mlflow/api/v1.0/predictions \\\n",
    "   -H \"Content-Type: application/json\"\n",
    "d=json.loads(X[0])\n",
    "print(d)"
   ]
  },
  {
   "cell_type": "code",
   "execution_count": null,
   "metadata": {},
   "outputs": [],
   "source": [
    "from seldon_core.seldon_client import SeldonClient\n",
    "\n",
    "sc = SeldonClient(deployment_name=\"mlflow\", namespace=\"seldon\")"
   ]
  },
  {
   "cell_type": "code",
   "execution_count": null,
   "metadata": {},
   "outputs": [],
   "source": [
    "r = sc.predict(gateway=\"ambassador\", transport=\"rest\", shape=(1, 11))\n",
    "print(r)\n",
    "assert r.success == True"
   ]
  },
  {
   "cell_type": "markdown",
   "metadata": {},
   "source": [
    "### gRPC Requests"
   ]
  },
  {
   "cell_type": "code",
   "execution_count": null,
   "metadata": {},
   "outputs": [],
   "source": [
    "X=!cd ../executor/proto && grpcurl -d '{\"data\":{\"ndarray\":[[0.1,0.2,0.3,0.4,0.5,0.6,0.7,0.8,0.9,1.0,1.1]]}}' \\\n",
    "         -rpc-header seldon:mlflow -rpc-header namespace:seldon \\\n",
    "         -plaintext \\\n",
    "         -proto ./prediction.proto  0.0.0.0:8003 seldon.protos.Seldon/Predict\n",
    "d=json.loads(\"\".join(X))\n",
    "print(d)"
   ]
  },
  {
   "cell_type": "code",
   "execution_count": null,
   "metadata": {},
   "outputs": [],
   "source": [
    "r = sc.predict(gateway=\"ambassador\", transport=\"grpc\", shape=(1, 11))\n",
    "print(r)\n",
    "assert r.success == True"
   ]
  },
  {
   "cell_type": "code",
   "execution_count": null,
   "metadata": {},
   "outputs": [],
   "source": [
    "!kubectl delete -f ./resources/elasticnet_wine.yaml"
   ]
  },
  {
   "cell_type": "markdown",
   "metadata": {},
   "source": [
    "## MLFlow kfserving v2 protocol"
   ]
  },
  {
   "cell_type": "code",
   "execution_count": null,
   "metadata": {},
   "outputs": [],
   "source": [
    "%%writefile ./resources/elasticnet_wine_v2.yaml\n",
    "apiVersion: machinelearning.seldon.io/v1alpha2\n",
    "kind: SeldonDeployment\n",
    "metadata:\n",
    "  name: mlflow\n",
    "spec:\n",
    "  protocol: kfserving  # Activate v2 protocol\n",
    "  name: wines\n",
    "  predictors:\n",
    "    - graph:\n",
    "        children: []\n",
    "        implementation: MLFLOW_SERVER\n",
    "        modelUri: gs://seldon-models/v1.10.0-dev/mlflow/elasticnet_wine\n",
    "        name: classifier\n",
    "      name: default\n",
    "      replicas: 1"
   ]
  },
  {
   "cell_type": "code",
   "execution_count": null,
   "metadata": {},
   "outputs": [],
   "source": [
    "!kubectl apply -f ./resources/elasticnet_wine_v2.yaml"
   ]
  },
  {
   "cell_type": "code",
   "execution_count": null,
   "metadata": {},
   "outputs": [],
   "source": [
    "!kubectl rollout status deploy/$(kubectl get deploy -l seldon-deployment-id=mlflow -o jsonpath='{.items[0].metadata.name}')"
   ]
  },
  {
   "cell_type": "markdown",
   "metadata": {},
   "source": [
    "## REST requests"
   ]
  },
  {
   "cell_type": "code",
   "execution_count": null,
   "metadata": {},
   "outputs": [],
   "source": [
    "import json\n",
    "\n",
    "import requests\n",
    "\n",
    "inference_request = {\n",
    "    \"parameters\": {\"content_type\": \"pd\"},\n",
    "    \"inputs\": [\n",
    "        {\n",
    "            \"name\": \"fixed acidity\",\n",
    "            \"shape\": [1],\n",
    "            \"datatype\": \"FP32\",\n",
    "            \"data\": [7.4],\n",
    "            \"parameters\": {\"content_type\": \"np\"},\n",
    "        },\n",
    "        {\n",
    "            \"name\": \"volatile acidity\",\n",
    "            \"shape\": [1],\n",
    "            \"datatype\": \"FP32\",\n",
    "            \"data\": [0.7000],\n",
    "            \"parameters\": {\"content_type\": \"np\"},\n",
    "        },\n",
    "        {\n",
    "            \"name\": \"citric acidity\",\n",
    "            \"shape\": [1],\n",
    "            \"datatype\": \"FP32\",\n",
    "            \"data\": [0],\n",
    "            \"parameters\": {\"content_type\": \"np\"},\n",
    "        },\n",
    "        {\n",
    "            \"name\": \"residual sugar\",\n",
    "            \"shape\": [1],\n",
    "            \"datatype\": \"FP32\",\n",
    "            \"data\": [1.9],\n",
    "            \"parameters\": {\"content_type\": \"np\"},\n",
    "        },\n",
    "        {\n",
    "            \"name\": \"chlorides\",\n",
    "            \"shape\": [1],\n",
    "            \"datatype\": \"FP32\",\n",
    "            \"data\": [0.076],\n",
    "            \"parameters\": {\"content_type\": \"np\"},\n",
    "        },\n",
    "        {\n",
    "            \"name\": \"free sulfur dioxide\",\n",
    "            \"shape\": [1],\n",
    "            \"datatype\": \"FP32\",\n",
    "            \"data\": [11],\n",
    "            \"parameters\": {\"content_type\": \"np\"},\n",
    "        },\n",
    "        {\n",
    "            \"name\": \"total sulfur dioxide\",\n",
    "            \"shape\": [1],\n",
    "            \"datatype\": \"FP32\",\n",
    "            \"data\": [34],\n",
    "            \"parameters\": {\"content_type\": \"np\"},\n",
    "        },\n",
    "        {\n",
    "            \"name\": \"density\",\n",
    "            \"shape\": [1],\n",
    "            \"datatype\": \"FP32\",\n",
    "            \"data\": [0.9978],\n",
    "            \"parameters\": {\"content_type\": \"np\"},\n",
    "        },\n",
    "        {\n",
    "            \"name\": \"pH\",\n",
    "            \"shape\": [1],\n",
    "            \"datatype\": \"FP32\",\n",
    "            \"data\": [3.51],\n",
    "            \"parameters\": {\"content_type\": \"np\"},\n",
    "        },\n",
    "        {\n",
    "            \"name\": \"sulphates\",\n",
    "            \"shape\": [1],\n",
    "            \"datatype\": \"FP32\",\n",
    "            \"data\": [0.56],\n",
    "            \"parameters\": {\"content_type\": \"np\"},\n",
    "        },\n",
    "        {\n",
    "            \"name\": \"alcohol\",\n",
    "            \"shape\": [1],\n",
    "            \"datatype\": \"FP32\",\n",
    "            \"data\": [9.4],\n",
    "            \"parameters\": {\"content_type\": \"np\"},\n",
    "        },\n",
    "    ],\n",
    "}\n",
    "\n",
    "endpoint = \"http://localhost:8003/seldon/seldon/mlflow/v2/models/infer\"\n",
    "response = requests.post(endpoint, json=inference_request)\n",
    "\n",
    "print(json.dumps(response.json(), indent=2))\n",
    "assert response.ok"
   ]
  },
  {
   "cell_type": "code",
   "execution_count": null,
   "metadata": {},
   "outputs": [],
   "source": [
    "!kubectl delete -f ./resources/elasticnet_wine_v2.yaml"
   ]
  }
 ],
 "metadata": {
  "kernelspec": {
   "display_name": "Python 3 (ipykernel)",
   "language": "python",
   "name": "python3"
  },
  "language_info": {
   "codemirror_mode": {
    "name": "ipython",
    "version": 3
   },
   "file_extension": ".py",
   "mimetype": "text/x-python",
   "name": "python",
   "nbconvert_exporter": "python",
   "pygments_lexer": "ipython3",
   "version": "3.8.12"
  },
  "varInspector": {
   "cols": {
    "lenName": 16,
    "lenType": 16,
    "lenVar": 40
   },
   "kernels_config": {
    "python": {
     "delete_cmd_postfix": "",
     "delete_cmd_prefix": "del ",
     "library": "var_list.py",
     "varRefreshCmd": "print(var_dic_list())"
    },
    "r": {
     "delete_cmd_postfix": ") ",
     "delete_cmd_prefix": "rm(",
     "library": "var_list.r",
     "varRefreshCmd": "cat(var_dic_list()) "
    }
   },
   "types_to_exclude": [
    "module",
    "function",
    "builtin_function_or_method",
    "instance",
    "_Feature"
   ],
   "window_display": false
  }
 },
 "nbformat": 4,
 "nbformat_minor": 4
}
